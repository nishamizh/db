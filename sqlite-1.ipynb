{
 "cells": [
  {
   "cell_type": "code",
   "execution_count": 1,
   "id": "d99cbf1f-621e-4a4d-834b-a92b17b234bb",
   "metadata": {},
   "outputs": [],
   "source": [
    "import sqlite3"
   ]
  },
  {
   "cell_type": "code",
   "execution_count": 2,
   "id": "708f65be-39cd-4cc7-8427-4e8cd8802ed7",
   "metadata": {},
   "outputs": [],
   "source": [
    "conn = sqlite3.connect('sqlite_db_pythonsqlite.db')\n",
    "cursor = conn.cursor()"
   ]
  },
  {
   "cell_type": "code",
   "execution_count": 3,
   "id": "30b4c8e7-049b-42da-9c76-e5c5c8a96060",
   "metadata": {},
   "outputs": [
    {
     "name": "stdout",
     "output_type": "stream",
     "text": [
      "[(0, 'Tennis Court 1', 5, 25, 10000, 200), (1, 'Tennis Court 2', 5, 25, 8000, 200), (2, 'Badminton Court', 0, 15.5, 4000, 50), (3, 'Table Tennis', 0, 5, 320, 10), (4, 'Massage Room 1', 9.9, 80, 4000, 3000), (5, 'Massage Room 2', 9.9, 80, 4000, 3000), (6, 'Squash Court', 3.5, 17.5, 5000, 80), (7, 'Snooker Table', 0, 5, 450, 15), (8, 'Pool Table', 0, 5, 400, 15)]\n"
     ]
    }
   ],
   "source": [
    "cursor.execute('SELECT * FROM Facilities')\n",
    "results = cursor.fetchall()\n",
    "print(results)"
   ]
  },
  {
   "cell_type": "code",
   "execution_count": null,
   "id": "51c21ce7-fc55-4821-8a33-b37a30bfb5a5",
   "metadata": {},
   "outputs": [],
   "source": [
    "QUESTIONS "
   ]
  },
  {
   "cell_type": "code",
   "execution_count": 9,
   "id": "cc610b98-197d-4e81-9219-9348b44497a0",
   "metadata": {},
   "outputs": [
    {
     "name": "stdout",
     "output_type": "stream",
     "text": [
      "[('Tennis Court 1', 5), ('Tennis Court 2', 5), ('Massage Room 1', 9.9), ('Massage Room 2', 9.9), ('Squash Court', 3.5)]\n"
     ]
    }
   ],
   "source": [
    "# Q1: Some of the facilities charge a fee to members, but some do not.\n",
    "#Write a SQL query to produce a list of the names of the facilities that do. \n",
    "\n",
    "cursor.execute('SELECT DISTINCT(name),membercost FROM Facilities WHERE membercost NOT IN (0)')\n",
    "results = cursor.fetchall()\n",
    "print(results)\n"
   ]
  },
  {
   "cell_type": "code",
   "execution_count": 10,
   "id": "88ac2fe2-1f57-4d5c-968e-00f399bc167f",
   "metadata": {},
   "outputs": [
    {
     "name": "stdout",
     "output_type": "stream",
     "text": [
      "[('Badminton Court', 0), ('Table Tennis', 0), ('Snooker Table', 0), ('Pool Table', 0)]\n"
     ]
    }
   ],
   "source": [
    "# Q2: How many facilities do not charge a fee to members? */\n",
    "\n",
    "cursor.execute('SELECT DISTINCT(name),membercost FROM Facilities WHERE membercost IN (0)')\n",
    "results = cursor.fetchall()\n",
    "print(results)"
   ]
  },
  {
   "cell_type": "code",
   "execution_count": 14,
   "id": "f53c8ef3-24bd-4c39-9c47-d5bccfa220db",
   "metadata": {},
   "outputs": [
    {
     "name": "stdout",
     "output_type": "stream",
     "text": [
      "[(0, 'Tennis Court 1', 5, 200), (1, 'Tennis Court 2', 5, 200), (4, 'Massage Room 1', 9.9, 3000), (5, 'Massage Room 2', 9.9, 3000), (6, 'Squash Court', 3.5, 80)]\n"
     ]
    }
   ],
   "source": [
    "# * Q3: Write an SQL query to show a list of facilities that charge a fee to members,\n",
    "# where the fee is less than 20% of the facility's monthly maintenance cost.\n",
    "# Return the facid, facility name, member cost, and monthly maintenance of the\n",
    "# facilities in question.\n",
    "\n",
    "cursor.execute('SELECT facid, name, membercost, monthlymaintenance FROM `Facilities` WHERE membercost < 0.2 *(monthlymaintenance) AND membercost NOT IN (0)')\n",
    "results = cursor.fetchall()\n",
    "print(results)"
   ]
  },
  {
   "cell_type": "code",
   "execution_count": 16,
   "id": "72e82154-a902-4862-bfe4-9cb555aeb78d",
   "metadata": {},
   "outputs": [
    {
     "name": "stdout",
     "output_type": "stream",
     "text": [
      "[(1, 'Tennis Court 2', 5, 25, 8000, 200), (5, 'Massage Room 2', 9.9, 80, 4000, 3000)]\n"
     ]
    }
   ],
   "source": [
    "# Q4: Write an SQL query to retrieve the details of facilities with ID 1 and 5.\n",
    "# Try writing the query without using the OR operator.\n",
    "\n",
    "cursor.execute('SELECT * FROM `Facilities` WHERE facid IN (1,5)')\n",
    "results = cursor.fetchall()\n",
    "print(results)"
   ]
  },
  {
   "cell_type": "code",
   "execution_count": 29,
   "id": "76e8a749-2824-4ef6-9e5a-3a6d29c6ce50",
   "metadata": {},
   "outputs": [
    {
     "name": "stdout",
     "output_type": "stream",
     "text": [
      "[('Tennis Court 1', 200, 'Expensive'), ('Tennis Court 2', 200, 'Expensive'), ('Badminton Court', 50, 'Cheap'), ('Table Tennis', 10, 'Cheap'), ('Massage Room 1', 3000, 'Expensive'), ('Massage Room 2', 3000, 'Expensive'), ('Squash Court', 80, 'Cheap'), ('Snooker Table', 15, 'Cheap'), ('Pool Table', 15, 'Cheap')]\n"
     ]
    }
   ],
   "source": [
    "# Q5: Produce a list of facilities, with each labelled as\n",
    "# 'cheap' or 'expensive', depending on if their monthly maintenance cost is\n",
    "# more than $100. Return the name and monthly maintenance of the facilities\n",
    "# in question.\n",
    "\n",
    "cursor.execute('''\n",
    "SELECT name, monthlymaintenance,\n",
    "    CASE WHEN monthlymaintenance > 100 THEN 'Expensive'\n",
    "    ELSE 'Cheap' END AS labelled\n",
    "FROM Facilities\n",
    "''')\n",
    "results = cursor.fetchall()\n",
    "print(results)              "
   ]
  },
  {
   "cell_type": "code",
   "execution_count": 32,
   "id": "8e4f6913-1717-4a2a-aa85-73361362d9a6",
   "metadata": {},
   "outputs": [
    {
     "name": "stdout",
     "output_type": "stream",
     "text": [
      "[('Darren', 'Smith', '2012-09-26 18:08:45')]\n"
     ]
    }
   ],
   "source": [
    "#Q6: You'd like to get the first and last name of the last member(s)\n",
    "#who signed up. Try not to use the LIMIT clause for your solution.\n",
    "\n",
    "cursor.execute('SELECT firstname , surname, joindate AS joinlast FROM `Members` WHERE joindate =(SELECT MAX(`joindate`) FROM `Members`)')\n",
    "results = cursor.fetchall()\n",
    "print(results)"
   ]
  },
  {
   "cell_type": "code",
   "execution_count": 86,
   "id": "9612c9ba-27f9-420e-af01-4010832beac9",
   "metadata": {},
   "outputs": [],
   "source": [
    "# Q7: Produce a list of all members who have used a tennis court.\n",
    "# Include in your output the name of the court, and the name of the member\n",
    "# formatted as a single column. Ensure no duplicate data, and order by\n",
    "# the member name.\n"
   ]
  },
  {
   "cell_type": "code",
   "execution_count": 92,
   "id": "b45eb7fd-0c9c-4aba-88e2-076a962e5d13",
   "metadata": {},
   "outputs": [
    {
     "name": "stdout",
     "output_type": "stream",
     "text": [
      "[('Anne Baker', 'Tennis Court 1'), ('Anne Baker', 'Tennis Court 2'), ('Burton Tracy', 'Tennis Court 2'), ('Burton Tracy', 'Tennis Court 1'), ('Charles Owen', 'Tennis Court 1'), ('Charles Owen', 'Tennis Court 2'), ('Darren Smith', 'Tennis Court 2'), ('David Farrell', 'Tennis Court 1'), ('David Farrell', 'Tennis Court 2'), ('David Jones', 'Tennis Court 2'), ('David Jones', 'Tennis Court 1'), ('David Pinker', 'Tennis Court 1'), ('Douglas Jones', 'Tennis Court 1'), ('Erica Crumpet', 'Tennis Court 1'), ('Florence Bader', 'Tennis Court 2'), ('Florence Bader', 'Tennis Court 1'), ('GUEST GUEST', 'Tennis Court 2'), ('GUEST GUEST', 'Tennis Court 1'), ('Gerald Butters', 'Tennis Court 1'), ('Gerald Butters', 'Tennis Court 2'), ('Henrietta Rumney', 'Tennis Court 2'), ('Jack Smith', 'Tennis Court 1'), ('Jack Smith', 'Tennis Court 2'), ('Janice Joplette', 'Tennis Court 1'), ('Janice Joplette', 'Tennis Court 2'), ('Jemima Farrell', 'Tennis Court 2'), ('Jemima Farrell', 'Tennis Court 1'), ('Joan Coplin', 'Tennis Court 1'), ('John Hunt', 'Tennis Court 1'), ('John Hunt', 'Tennis Court 2'), ('Matthew Genting', 'Tennis Court 1'), ('Millicent Purview', 'Tennis Court 2'), ('Nancy Dare', 'Tennis Court 2'), ('Nancy Dare', 'Tennis Court 1'), ('Ponder Stibbons', 'Tennis Court 2'), ('Ponder Stibbons', 'Tennis Court 1'), ('Ramnaresh Sarwin', 'Tennis Court 2'), ('Ramnaresh Sarwin', 'Tennis Court 1'), ('Tim Boothe', 'Tennis Court 2'), ('Tim Boothe', 'Tennis Court 1'), ('Tim Rownam', 'Tennis Court 2'), ('Tim Rownam', 'Tennis Court 1'), ('Timothy Baker', 'Tennis Court 2'), ('Timothy Baker', 'Tennis Court 1'), ('Tracy Smith', 'Tennis Court 1'), ('Tracy Smith', 'Tennis Court 2')]\n"
     ]
    }
   ],
   "source": [
    "cursor.execute('''\n",
    "SELECT DISTINCT CONCAT(firstname,' ',surname) AS full_name, f.name\n",
    "FROM Members m\n",
    "JOIN Bookings b ON b.memid = m.memid\n",
    "JOIN Facilities f ON f.facid = b.facid\n",
    "WHERE m.memid IN\n",
    "(SELECT DISTINCT memid FROM `Bookings` WHERE f.facid IN (SELECT facid FROM `Facilities` WHERE `name` LIKE '%Tennis Court%'))\n",
    "ORDER BY full_name\n",
    "''')\n",
    "results = cursor.fetchall()\n",
    "print(results)"
   ]
  },
  {
   "cell_type": "code",
   "execution_count": 91,
   "id": "7c60dbd8-bfc6-4698-9d0a-34a3a588515d",
   "metadata": {},
   "outputs": [
    {
     "name": "stdout",
     "output_type": "stream",
     "text": [
      "[('Anne Baker', 'Tennis Court 1'), ('Burton Tracy', 'Tennis Court 1'), ('Charles Owen', 'Tennis Court 1'), ('Darren Smith', 'Tennis Court 1'), ('David Farrell', 'Tennis Court 1'), ('David Jones', 'Tennis Court 1'), ('David Pinker', 'Tennis Court 1'), ('Douglas Jones', 'Tennis Court 1'), ('Erica Crumpet', 'Tennis Court 1'), ('Florence Bader', 'Tennis Court 1'), ('GUEST GUEST', 'Tennis Court 1'), ('Gerald Butters', 'Tennis Court 1'), ('Henrietta Rumney', 'Tennis Court 1'), ('Jack Smith', 'Tennis Court 1'), ('Janice Joplette', 'Tennis Court 1'), ('Jemima Farrell', 'Tennis Court 1'), ('Joan Coplin', 'Tennis Court 1'), ('John Hunt', 'Tennis Court 1'), ('Matthew Genting', 'Tennis Court 1'), ('Millicent Purview', 'Tennis Court 1'), ('Nancy Dare', 'Tennis Court 1'), ('Ponder Stibbons', 'Tennis Court 1'), ('Ramnaresh Sarwin', 'Tennis Court 1'), ('Tim Boothe', 'Tennis Court 1'), ('Tim Rownam', 'Tennis Court 1'), ('Timothy Baker', 'Tennis Court 1'), ('Tracy Smith', 'Tennis Court 1')]\n"
     ]
    }
   ],
   "source": [
    "cursor.execute('''\n",
    "SELECT DISTINCT CONCAT(firstname, ' ', surname) AS full_name,\n",
    "       (SELECT name \n",
    "        FROM Facilities \n",
    "        WHERE name LIKE '%Tennis Court%') AS facility_name\n",
    "FROM Members\n",
    "WHERE memid IN (\n",
    "    SELECT DISTINCT memid\n",
    "    FROM Bookings\n",
    "    WHERE facid IN (\n",
    "        SELECT facid\n",
    "        FROM Facilities\n",
    "        WHERE name LIKE '%Tennis Court%'\n",
    "    )\n",
    ")\n",
    "ORDER BY full_name\n",
    "''')\n",
    "results = cursor.fetchall()\n",
    "print(results)"
   ]
  },
  {
   "cell_type": "code",
   "execution_count": 107,
   "id": "24a82adb-a903-43e1-8462-62975bbc87c7",
   "metadata": {},
   "outputs": [
    {
     "name": "stdout",
     "output_type": "stream",
     "text": [
      "[('Massage Room 1', 2936, 80), ('Massage Room 1', 2937, 80), ('Massage Room 1', 2938, 80), ('Massage Room 1', 2939, 80), ('Massage Room 1', 2940, 80), ('Massage Room 1', 2941, 80), ('Massage Room 1', 2942, 80), ('Massage Room 1', 2943, 80), ('Massage Room 1', 2944, 80), ('Massage Room 2', 2945, 80), ('Massage Room 2', 2946, 80)]\n"
     ]
    }
   ],
   "source": [
    "#* Q8: Produce a list of bookings on the day of 2012-09-14 which\n",
    "# will cost the member (or guest) more than $30. Remember that guests have\n",
    "# different costs to members (the listed costs are per half-hour 'slot'), and\n",
    "# the guest user's ID is always 0. Include in your output the name of the\n",
    "# facility, the name of the member formatted as a single column, and the cost.\n",
    "# Order by descending cost, and do not use any subqueries.\n",
    "\n",
    "# Tennis Court, DArren Smith, 30.0 \n",
    "#WITH daterange AS\n",
    "#(SELECT * FROM `Bookings` WHERE `starttime`> '2012-09-14' AND `starttime`<= '2012-09-15')\n",
    "\n",
    "cursor.execute('''\n",
    "WITH daterange AS\n",
    "(SELECT bookid, facid, starttime FROM `Bookings` WHERE `starttime`> '2012-09-14' AND `starttime`<= '2012-09-15')\n",
    "\n",
    "SELECT f.name, d.bookid, \n",
    "    CASE WHEN f.guestcost > 30 THEN f.guestcost\n",
    "        WHEN f.membercost > 30 THEN f.membercost\n",
    "        ELSE 'member' END AS who\n",
    "FROM Facilities AS f\n",
    "LEFT JOIN daterange AS d\n",
    "ON d.facid = f.facid\n",
    "WHERE f.membercost > 30 OR f.guestcost > 30\n",
    "''')\n",
    "results = cursor.fetchall()\n",
    "print(results)"
   ]
  },
  {
   "cell_type": "code",
   "execution_count": null,
   "id": "c4b70674-076e-4078-9c7b-f333b4ec5bd9",
   "metadata": {},
   "outputs": [],
   "source": [
    "results = cursor.fetchall()\n",
    "print(results)"
   ]
  },
  {
   "cell_type": "code",
   "execution_count": 108,
   "id": "77af5e54-96f5-4f8d-a18a-03897e203b5d",
   "metadata": {},
   "outputs": [
    {
     "name": "stdout",
     "output_type": "stream",
     "text": [
      "[(6, 'Squash Court', 3.5, 17.5, 2, 6, 0, '2012-07-03 18:00:00', 2), (4, 'Massage Room 1', 9.9, 80, 9, 4, 0, '2012-07-04 15:00:00', 2), (4, 'Massage Room 1', 9.9, 80, 10, 4, 0, '2012-07-04 17:30:00', 2), (6, 'Squash Court', 3.5, 17.5, 11, 6, 0, '2012-07-04 12:30:00', 2), (6, 'Squash Court', 3.5, 17.5, 12, 6, 0, '2012-07-04 14:00:00', 2), (1, 'Tennis Court 2', 5, 25, 17, 1, 0, '2012-07-05 17:30:00', 3), (6, 'Squash Court', 3.5, 17.5, 22, 6, 0, '2012-07-05 13:00:00', 2), (0, 'Tennis Court 1', 5, 25, 26, 0, 0, '2012-07-06 08:00:00', 3), (0, 'Tennis Court 1', 5, 25, 27, 0, 0, '2012-07-06 14:00:00', 3), (0, 'Tennis Court 1', 5, 25, 37, 0, 0, '2012-07-07 12:30:00', 3), (4, 'Massage Room 1', 9.9, 80, 46, 4, 0, '2012-07-07 17:30:00', 2), (6, 'Squash Court', 3.5, 17.5, 47, 6, 0, '2012-07-07 08:30:00', 2), (6, 'Squash Court', 3.5, 17.5, 50, 6, 0, '2012-07-07 16:00:00', 2), (4, 'Massage Room 1', 9.9, 80, 61, 4, 0, '2012-07-08 11:00:00', 2), (4, 'Massage Room 1', 9.9, 80, 63, 4, 0, '2012-07-08 18:00:00', 2), (4, 'Massage Room 1', 9.9, 80, 64, 4, 0, '2012-07-08 19:30:00', 2), (6, 'Squash Court', 3.5, 17.5, 65, 6, 0, '2012-07-08 14:00:00', 2), (6, 'Squash Court', 3.5, 17.5, 66, 6, 0, '2012-07-08 18:30:00', 2), (1, 'Tennis Court 2', 5, 25, 74, 1, 0, '2012-07-09 13:00:00', 3), (2, 'Badminton Court', 0, 15.5, 77, 2, 0, '2012-07-09 19:00:00', 3), (6, 'Squash Court', 3.5, 17.5, 82, 6, 0, '2012-07-09 14:30:00', 2), (7, 'Snooker Table', 0, 5, 84, 7, 0, '2012-07-09 18:30:00', 4), (0, 'Tennis Court 1', 5, 25, 88, 0, 0, '2012-07-10 11:30:00', 3), (0, 'Tennis Court 1', 5, 25, 89, 0, 0, '2012-07-10 16:00:00', 3), (4, 'Massage Room 1', 9.9, 80, 95, 4, 0, '2012-07-10 10:00:00', 2), (4, 'Massage Room 1', 9.9, 80, 97, 4, 0, '2012-07-10 15:00:00', 2), (5, 'Massage Room 2', 9.9, 80, 99, 5, 0, '2012-07-10 08:30:00', 2), (6, 'Squash Court', 3.5, 17.5, 100, 6, 0, '2012-07-10 14:30:00', 2), (6, 'Squash Court', 3.5, 17.5, 101, 6, 0, '2012-07-10 19:00:00', 2), (8, 'Pool Table', 0, 5, 104, 8, 0, '2012-07-10 11:30:00', 1), (0, 'Tennis Court 1', 5, 25, 109, 0, 0, '2012-07-11 12:00:00', 3), (0, 'Tennis Court 1', 5, 25, 110, 0, 0, '2012-07-11 14:00:00', 3), (1, 'Tennis Court 2', 5, 25, 113, 1, 0, '2012-07-11 12:30:00', 3), (1, 'Tennis Court 2', 5, 25, 114, 1, 0, '2012-07-11 16:00:00', 3), (4, 'Massage Room 1', 9.9, 80, 116, 4, 0, '2012-07-11 09:00:00', 2), (4, 'Massage Room 1', 9.9, 80, 118, 4, 0, '2012-07-11 15:00:00', 2), (6, 'Squash Court', 3.5, 17.5, 120, 6, 0, '2012-07-11 14:00:00', 2), (6, 'Squash Court', 3.5, 17.5, 121, 6, 0, '2012-07-11 19:30:00', 2), (7, 'Snooker Table', 0, 5, 122, 7, 0, '2012-07-11 08:00:00', 2), (7, 'Snooker Table', 0, 5, 123, 7, 0, '2012-07-11 14:00:00', 2), (7, 'Snooker Table', 0, 5, 124, 7, 0, '2012-07-11 16:30:00', 2), (0, 'Tennis Court 1', 5, 25, 127, 0, 0, '2012-07-12 13:30:00', 3), (6, 'Squash Court', 3.5, 17.5, 134, 6, 0, '2012-07-12 12:00:00', 4), (2, 'Badminton Court', 0, 15.5, 144, 2, 0, '2012-07-13 15:00:00', 3), (4, 'Massage Room 1', 9.9, 80, 146, 4, 0, '2012-07-13 11:00:00', 2), (4, 'Massage Room 1', 9.9, 80, 147, 4, 0, '2012-07-13 13:30:00', 2), (4, 'Massage Room 1', 9.9, 80, 148, 4, 0, '2012-07-13 15:00:00', 2), (6, 'Squash Court', 3.5, 17.5, 151, 6, 0, '2012-07-13 09:30:00', 2), (7, 'Snooker Table', 0, 5, 152, 7, 0, '2012-07-13 08:00:00', 2), (8, 'Pool Table', 0, 5, 155, 8, 0, '2012-07-13 15:30:00', 1), (1, 'Tennis Court 2', 5, 25, 162, 1, 0, '2012-07-14 14:30:00', 3), (6, 'Squash Court', 3.5, 17.5, 167, 6, 0, '2012-07-14 09:30:00', 2), (6, 'Squash Court', 3.5, 17.5, 169, 6, 0, '2012-07-14 15:00:00', 2), (0, 'Tennis Court 1', 5, 25, 177, 0, 0, '2012-07-15 16:00:00', 3), (1, 'Tennis Court 2', 5, 25, 179, 1, 0, '2012-07-15 10:00:00', 3), (1, 'Tennis Court 2', 5, 25, 180, 1, 0, '2012-07-15 12:00:00', 3), (4, 'Massage Room 1', 9.9, 80, 185, 4, 0, '2012-07-15 15:00:00', 2), (1, 'Tennis Court 2', 5, 25, 196, 1, 0, '2012-07-16 12:30:00', 3), (6, 'Squash Court', 3.5, 17.5, 202, 6, 0, '2012-07-16 18:30:00', 2), (4, 'Massage Room 1', 9.9, 80, 221, 4, 0, '2012-07-17 09:00:00', 2), (5, 'Massage Room 2', 9.9, 80, 226, 5, 0, '2012-07-17 13:30:00', 2), (6, 'Squash Court', 3.5, 17.5, 228, 6, 0, '2012-07-17 14:00:00', 2), (8, 'Pool Table', 0, 5, 236, 8, 0, '2012-07-17 15:00:00', 1), (1, 'Tennis Court 2', 5, 25, 242, 1, 0, '2012-07-18 14:00:00', 3), (1, 'Tennis Court 2', 5, 25, 243, 1, 0, '2012-07-18 16:30:00', 3), (5, 'Massage Room 2', 9.9, 80, 250, 5, 0, '2012-07-18 14:30:00', 2), (6, 'Squash Court', 3.5, 17.5, 251, 6, 0, '2012-07-18 10:30:00', 2), (6, 'Squash Court', 3.5, 17.5, 252, 6, 0, '2012-07-18 13:00:00', 2), (6, 'Squash Court', 3.5, 17.5, 253, 6, 0, '2012-07-18 15:00:00', 2), (8, 'Pool Table', 0, 5, 258, 8, 0, '2012-07-18 13:00:00', 1), (0, 'Tennis Court 1', 5, 25, 266, 0, 0, '2012-07-19 13:30:00', 3), (1, 'Tennis Court 2', 5, 25, 269, 1, 0, '2012-07-19 15:00:00', 3), (1, 'Tennis Court 2', 5, 25, 270, 1, 0, '2012-07-19 18:30:00', 3), (2, 'Badminton Court', 0, 15.5, 272, 2, 0, '2012-07-19 11:30:00', 3), (4, 'Massage Room 1', 9.9, 80, 280, 4, 0, '2012-07-19 16:30:00', 2), (4, 'Massage Room 1', 9.9, 80, 282, 4, 0, '2012-07-19 19:30:00', 2), (5, 'Massage Room 2', 9.9, 80, 283, 5, 0, '2012-07-19 08:30:00', 2), (6, 'Squash Court', 3.5, 17.5, 286, 6, 0, '2012-07-19 15:00:00', 2), (6, 'Squash Court', 3.5, 17.5, 287, 6, 0, '2012-07-19 16:30:00', 2), (7, 'Snooker Table', 0, 5, 289, 7, 0, '2012-07-19 14:00:00', 2), (7, 'Snooker Table', 0, 5, 290, 7, 0, '2012-07-19 16:30:00', 2), (0, 'Tennis Court 1', 5, 25, 301, 0, 0, '2012-07-20 19:00:00', 3), (4, 'Massage Room 1', 9.9, 80, 309, 4, 0, '2012-07-20 13:00:00', 2), (4, 'Massage Room 1', 9.9, 80, 311, 4, 0, '2012-07-20 17:30:00', 2), (6, 'Squash Court', 3.5, 17.5, 313, 6, 0, '2012-07-20 11:00:00', 2), (6, 'Squash Court', 3.5, 17.5, 316, 6, 0, '2012-07-20 16:00:00', 4), (0, 'Tennis Court 1', 5, 25, 323, 0, 0, '2012-07-21 08:00:00', 3), (1, 'Tennis Court 2', 5, 25, 328, 1, 0, '2012-07-21 11:00:00', 3), (2, 'Badminton Court', 0, 15.5, 329, 2, 0, '2012-07-21 10:30:00', 3), (4, 'Massage Room 1', 9.9, 80, 332, 4, 0, '2012-07-21 09:00:00', 2), (4, 'Massage Room 1', 9.9, 80, 334, 4, 0, '2012-07-21 14:00:00', 4), (4, 'Massage Room 1', 9.9, 80, 337, 4, 0, '2012-07-21 19:00:00', 2), (6, 'Squash Court', 3.5, 17.5, 339, 6, 0, '2012-07-21 09:30:00', 2), (6, 'Squash Court', 3.5, 17.5, 340, 6, 0, '2012-07-21 12:00:00', 2), (0, 'Tennis Court 1', 5, 25, 346, 0, 0, '2012-07-22 16:00:00', 3), (1, 'Tennis Court 2', 5, 25, 348, 1, 0, '2012-07-22 08:30:00', 3), (1, 'Tennis Court 2', 5, 25, 349, 1, 0, '2012-07-22 10:30:00', 3), (4, 'Massage Room 1', 9.9, 80, 358, 4, 0, '2012-07-22 12:00:00', 2), (4, 'Massage Room 1', 9.9, 80, 360, 4, 0, '2012-07-22 16:30:00', 2), (6, 'Squash Court', 3.5, 17.5, 364, 6, 0, '2012-07-22 14:30:00', 2), (6, 'Squash Court', 3.5, 17.5, 365, 6, 0, '2012-07-22 16:30:00', 2), (0, 'Tennis Court 1', 5, 25, 371, 0, 0, '2012-07-23 09:30:00', 3), (0, 'Tennis Court 1', 5, 25, 372, 0, 0, '2012-07-23 12:00:00', 3), (1, 'Tennis Court 2', 5, 25, 377, 1, 0, '2012-07-23 17:00:00', 3), (4, 'Massage Room 1', 9.9, 80, 386, 4, 0, '2012-07-23 16:30:00', 2), (6, 'Squash Court', 3.5, 17.5, 389, 6, 0, '2012-07-23 13:30:00', 2), (6, 'Squash Court', 3.5, 17.5, 390, 6, 0, '2012-07-23 15:00:00', 4), (6, 'Squash Court', 3.5, 17.5, 391, 6, 0, '2012-07-23 19:00:00', 2), (0, 'Tennis Court 1', 5, 25, 398, 0, 0, '2012-07-24 11:00:00', 3), (1, 'Tennis Court 2', 5, 25, 402, 1, 0, '2012-07-24 16:00:00', 6), (4, 'Massage Room 1', 9.9, 80, 408, 4, 0, '2012-07-24 08:30:00', 2), (4, 'Massage Room 1', 9.9, 80, 410, 4, 0, '2012-07-24 11:30:00', 2), (4, 'Massage Room 1', 9.9, 80, 412, 4, 0, '2012-07-24 15:30:00', 2), (4, 'Massage Room 1', 9.9, 80, 413, 4, 0, '2012-07-24 17:30:00', 2), (4, 'Massage Room 1', 9.9, 80, 414, 4, 0, '2012-07-24 19:30:00', 2), (6, 'Squash Court', 3.5, 17.5, 416, 6, 0, '2012-07-24 09:30:00', 2), (6, 'Squash Court', 3.5, 17.5, 417, 6, 0, '2012-07-24 14:30:00', 2), (8, 'Pool Table', 0, 5, 427, 8, 0, '2012-07-24 15:00:00', 1), (8, 'Pool Table', 0, 5, 429, 8, 0, '2012-07-24 20:00:00', 1), (0, 'Tennis Court 1', 5, 25, 431, 0, 0, '2012-07-25 12:30:00', 3), (0, 'Tennis Court 1', 5, 25, 432, 0, 0, '2012-07-25 16:30:00', 3), (1, 'Tennis Court 2', 5, 25, 434, 1, 0, '2012-07-25 10:30:00', 3), (4, 'Massage Room 1', 9.9, 80, 443, 4, 0, '2012-07-25 09:30:00', 4), (5, 'Massage Room 2', 9.9, 80, 449, 5, 0, '2012-07-25 18:30:00', 2), (6, 'Squash Court', 3.5, 17.5, 452, 6, 0, '2012-07-25 12:00:00', 2), (6, 'Squash Court', 3.5, 17.5, 453, 6, 0, '2012-07-25 13:30:00', 2), (6, 'Squash Court', 3.5, 17.5, 454, 6, 0, '2012-07-25 16:30:00', 4), (0, 'Tennis Court 1', 5, 25, 465, 0, 0, '2012-07-26 11:30:00', 3), (1, 'Tennis Court 2', 5, 25, 471, 1, 0, '2012-07-26 16:30:00', 3), (3, 'Table Tennis', 0, 5, 478, 3, 0, '2012-07-26 09:00:00', 2), (3, 'Table Tennis', 0, 5, 479, 3, 0, '2012-07-26 13:30:00', 2), (4, 'Massage Room 1', 9.9, 80, 483, 4, 0, '2012-07-26 12:00:00', 2), (6, 'Squash Court', 3.5, 17.5, 487, 6, 0, '2012-07-26 10:00:00', 4), (6, 'Squash Court', 3.5, 17.5, 488, 6, 0, '2012-07-26 13:00:00', 2), (6, 'Squash Court', 3.5, 17.5, 489, 6, 0, '2012-07-26 19:00:00', 2), (1, 'Tennis Court 2', 5, 25, 504, 1, 0, '2012-07-27 10:00:00', 3), (1, 'Tennis Court 2', 5, 25, 506, 1, 0, '2012-07-27 13:00:00', 3), (1, 'Tennis Court 2', 5, 25, 507, 1, 0, '2012-07-27 15:00:00', 3), (1, 'Tennis Court 2', 5, 25, 508, 1, 0, '2012-07-27 18:00:00', 3), (3, 'Table Tennis', 0, 5, 510, 3, 0, '2012-07-27 10:30:00', 2), (4, 'Massage Room 1', 9.9, 80, 515, 4, 0, '2012-07-27 14:00:00', 4), (4, 'Massage Room 1', 9.9, 80, 516, 4, 0, '2012-07-27 16:30:00', 2), (4, 'Massage Room 1', 9.9, 80, 518, 4, 0, '2012-07-27 18:30:00', 2), (6, 'Squash Court', 3.5, 17.5, 520, 6, 0, '2012-07-27 09:00:00', 2), (8, 'Pool Table', 0, 5, 529, 8, 0, '2012-07-27 18:30:00', 1), (1, 'Tennis Court 2', 5, 25, 535, 1, 0, '2012-07-28 10:00:00', 3), (1, 'Tennis Court 2', 5, 25, 536, 1, 0, '2012-07-28 16:00:00', 3), (4, 'Massage Room 1', 9.9, 80, 544, 4, 0, '2012-07-28 09:00:00', 2), (4, 'Massage Room 1', 9.9, 80, 546, 4, 0, '2012-07-28 12:30:00', 2), (4, 'Massage Room 1', 9.9, 80, 548, 4, 0, '2012-07-28 19:00:00', 2), (5, 'Massage Room 2', 9.9, 80, 549, 5, 0, '2012-07-28 18:00:00', 2), (6, 'Squash Court', 3.5, 17.5, 550, 6, 0, '2012-07-28 17:00:00', 2), (6, 'Squash Court', 3.5, 17.5, 551, 6, 0, '2012-07-28 18:30:00', 2), (0, 'Tennis Court 1', 5, 25, 563, 0, 0, '2012-07-29 17:00:00', 3), (1, 'Tennis Court 2', 5, 25, 565, 1, 0, '2012-07-29 15:00:00', 3), (4, 'Massage Room 1', 9.9, 80, 571, 4, 0, '2012-07-29 09:00:00', 2), (4, 'Massage Room 1', 9.9, 80, 575, 4, 0, '2012-07-29 18:30:00', 2), (6, 'Squash Court', 3.5, 17.5, 576, 6, 0, '2012-07-29 09:00:00', 2), (6, 'Squash Court', 3.5, 17.5, 577, 6, 0, '2012-07-29 10:30:00', 2), (2, 'Badminton Court', 0, 15.5, 595, 2, 0, '2012-07-30 17:30:00', 3), (4, 'Massage Room 1', 9.9, 80, 598, 4, 0, '2012-07-30 08:00:00', 2), (4, 'Massage Room 1', 9.9, 80, 599, 4, 0, '2012-07-30 10:30:00', 2), (4, 'Massage Room 1', 9.9, 80, 600, 4, 0, '2012-07-30 12:00:00', 2), (5, 'Massage Room 2', 9.9, 80, 603, 5, 0, '2012-07-30 12:30:00', 2), (5, 'Massage Room 2', 9.9, 80, 604, 5, 0, '2012-07-30 14:00:00', 2), (6, 'Squash Court', 3.5, 17.5, 605, 6, 0, '2012-07-30 08:30:00', 2), (6, 'Squash Court', 3.5, 17.5, 606, 6, 0, '2012-07-30 12:00:00', 2), (6, 'Squash Court', 3.5, 17.5, 607, 6, 0, '2012-07-30 14:30:00', 2), (6, 'Squash Court', 3.5, 17.5, 608, 6, 0, '2012-07-30 17:30:00', 2), (0, 'Tennis Court 1', 5, 25, 625, 0, 0, '2012-07-31 11:00:00', 3), (0, 'Tennis Court 1', 5, 25, 626, 0, 0, '2012-07-31 15:00:00', 3), (0, 'Tennis Court 1', 5, 25, 628, 0, 0, '2012-07-31 18:30:00', 3), (1, 'Tennis Court 2', 5, 25, 629, 1, 0, '2012-07-31 08:00:00', 3), (4, 'Massage Room 1', 9.9, 80, 636, 4, 0, '2012-07-31 11:00:00', 2), (4, 'Massage Room 1', 9.9, 80, 640, 4, 0, '2012-07-31 15:00:00', 2), (4, 'Massage Room 1', 9.9, 80, 643, 4, 0, '2012-07-31 19:30:00', 2), (6, 'Squash Court', 3.5, 17.5, 644, 6, 0, '2012-07-31 09:00:00', 2), (6, 'Squash Court', 3.5, 17.5, 647, 6, 0, '2012-07-31 14:30:00', 2), (4, 'Massage Room 1', 9.9, 80, 668, 4, 0, '2012-08-01 10:30:00', 6), (5, 'Massage Room 2', 9.9, 80, 672, 5, 0, '2012-08-01 14:30:00', 2), (6, 'Squash Court', 3.5, 17.5, 673, 6, 0, '2012-08-01 09:30:00', 2), (6, 'Squash Court', 3.5, 17.5, 674, 6, 0, '2012-08-01 11:00:00', 4), (6, 'Squash Court', 3.5, 17.5, 676, 6, 0, '2012-08-01 18:00:00', 2), (1, 'Tennis Court 2', 5, 25, 693, 1, 0, '2012-08-02 13:30:00', 3), (1, 'Tennis Court 2', 5, 25, 695, 1, 0, '2012-08-02 18:00:00', 3), (2, 'Badminton Court', 0, 15.5, 697, 2, 0, '2012-08-02 11:30:00', 3), (4, 'Massage Room 1', 9.9, 80, 711, 4, 0, '2012-08-02 19:30:00', 2), (6, 'Squash Court', 3.5, 17.5, 713, 6, 0, '2012-08-02 10:00:00', 2), (6, 'Squash Court', 3.5, 17.5, 714, 6, 0, '2012-08-02 11:30:00', 2), (6, 'Squash Court', 3.5, 17.5, 717, 6, 0, '2012-08-02 17:00:00', 4), (7, 'Snooker Table', 0, 5, 723, 7, 0, '2012-08-02 18:00:00', 2), (0, 'Tennis Court 1', 5, 25, 731, 0, 0, '2012-08-03 16:00:00', 3), (1, 'Tennis Court 2', 5, 25, 734, 1, 0, '2012-08-03 13:00:00', 6), (4, 'Massage Room 1', 9.9, 80, 744, 4, 0, '2012-08-03 09:30:00', 2), (4, 'Massage Room 1', 9.9, 80, 746, 4, 0, '2012-08-03 11:30:00', 2), (4, 'Massage Room 1', 9.9, 80, 747, 4, 0, '2012-08-03 13:00:00', 2), (6, 'Squash Court', 3.5, 17.5, 751, 6, 0, '2012-08-03 09:00:00', 2), (6, 'Squash Court', 3.5, 17.5, 752, 6, 0, '2012-08-03 10:30:00', 2), (6, 'Squash Court', 3.5, 17.5, 754, 6, 0, '2012-08-03 15:30:00', 2), (6, 'Squash Court', 3.5, 17.5, 756, 6, 0, '2012-08-03 19:00:00', 2), (8, 'Pool Table', 0, 5, 767, 8, 0, '2012-08-03 19:00:00', 1), (1, 'Tennis Court 2', 5, 25, 771, 1, 0, '2012-08-04 11:30:00', 3), (1, 'Tennis Court 2', 5, 25, 773, 1, 0, '2012-08-04 18:30:00', 3), (4, 'Massage Room 1', 9.9, 80, 785, 4, 0, '2012-08-04 13:30:00', 2), (4, 'Massage Room 1', 9.9, 80, 787, 4, 0, '2012-08-04 17:00:00', 2), (5, 'Massage Room 2', 9.9, 80, 789, 5, 0, '2012-08-04 12:30:00', 2), (6, 'Squash Court', 3.5, 17.5, 793, 6, 0, '2012-08-04 16:00:00', 2), (6, 'Squash Court', 3.5, 17.5, 794, 6, 0, '2012-08-04 17:30:00', 2), (1, 'Tennis Court 2', 5, 25, 810, 1, 0, '2012-08-05 08:00:00', 3), (4, 'Massage Room 1', 9.9, 80, 822, 4, 0, '2012-08-05 08:30:00', 2), (4, 'Massage Room 1', 9.9, 80, 823, 4, 0, '2012-08-05 10:00:00', 2), (4, 'Massage Room 1', 9.9, 80, 824, 4, 0, '2012-08-05 11:30:00', 2), (6, 'Squash Court', 3.5, 17.5, 827, 6, 0, '2012-08-05 10:00:00', 4), (6, 'Squash Court', 3.5, 17.5, 829, 6, 0, '2012-08-05 15:30:00', 2), (8, 'Pool Table', 0, 5, 833, 8, 0, '2012-08-05 08:30:00', 1), (8, 'Pool Table', 0, 5, 835, 8, 0, '2012-08-05 14:00:00', 1), (0, 'Tennis Court 1', 5, 25, 840, 0, 0, '2012-08-06 10:30:00', 3), (0, 'Tennis Court 1', 5, 25, 842, 0, 0, '2012-08-06 13:30:00', 3), (1, 'Tennis Court 2', 5, 25, 848, 1, 0, '2012-08-06 11:30:00', 3), (4, 'Massage Room 1', 9.9, 80, 858, 4, 0, '2012-08-06 08:00:00', 4), (4, 'Massage Room 1', 9.9, 80, 859, 4, 0, '2012-08-06 12:00:00', 2), (4, 'Massage Room 1', 9.9, 80, 861, 4, 0, '2012-08-06 16:30:00', 2), (5, 'Massage Room 2', 9.9, 80, 863, 5, 0, '2012-08-06 11:00:00', 2), (6, 'Squash Court', 3.5, 17.5, 865, 6, 0, '2012-08-06 10:00:00', 2), (6, 'Squash Court', 3.5, 17.5, 867, 6, 0, '2012-08-06 14:00:00', 2), (1, 'Tennis Court 2', 5, 25, 882, 1, 0, '2012-08-07 08:00:00', 3), (4, 'Massage Room 1', 9.9, 80, 894, 4, 0, '2012-08-07 08:30:00', 2), (4, 'Massage Room 1', 9.9, 80, 897, 4, 0, '2012-08-07 15:30:00', 2), (6, 'Squash Court', 3.5, 17.5, 900, 6, 0, '2012-08-07 14:00:00', 2), (6, 'Squash Court', 3.5, 17.5, 901, 6, 0, '2012-08-07 15:30:00', 2), (6, 'Squash Court', 3.5, 17.5, 902, 6, 0, '2012-08-07 18:00:00', 2), (8, 'Pool Table', 0, 5, 909, 8, 0, '2012-08-07 11:00:00', 1), (8, 'Pool Table', 0, 5, 913, 8, 0, '2012-08-07 16:30:00', 1), (1, 'Tennis Court 2', 5, 25, 920, 1, 0, '2012-08-08 08:30:00', 6), (3, 'Table Tennis', 0, 5, 932, 3, 0, '2012-08-08 12:00:00', 2), (4, 'Massage Room 1', 9.9, 80, 938, 4, 0, '2012-08-08 15:00:00', 2), (4, 'Massage Room 1', 9.9, 80, 939, 4, 0, '2012-08-08 16:30:00', 2), (5, 'Massage Room 2', 9.9, 80, 941, 5, 0, '2012-08-08 08:00:00', 2), (6, 'Squash Court', 3.5, 17.5, 942, 6, 0, '2012-08-08 09:00:00', 2), (6, 'Squash Court', 3.5, 17.5, 943, 6, 0, '2012-08-08 11:00:00', 2), (6, 'Squash Court', 3.5, 17.5, 947, 6, 0, '2012-08-08 19:00:00', 2), (1, 'Tennis Court 2', 5, 25, 969, 1, 0, '2012-08-09 10:00:00', 3), (1, 'Tennis Court 2', 5, 25, 971, 1, 0, '2012-08-09 17:00:00', 3), (4, 'Massage Room 1', 9.9, 80, 981, 4, 0, '2012-08-09 09:00:00', 4), (4, 'Massage Room 1', 9.9, 80, 982, 4, 0, '2012-08-09 12:00:00', 4), (7, 'Snooker Table', 0, 5, 991, 7, 0, '2012-08-09 12:30:00', 2), (1, 'Tennis Court 2', 5, 25, 1009, 1, 0, '2012-08-10 16:00:00', 3), (2, 'Badminton Court', 0, 15.5, 1014, 2, 0, '2012-08-10 19:00:00', 3), (4, 'Massage Room 1', 9.9, 80, 1023, 4, 0, '2012-08-10 13:00:00', 2), (5, 'Massage Room 2', 9.9, 80, 1028, 5, 0, '2012-08-10 13:30:00', 2), (6, 'Squash Court', 3.5, 17.5, 1029, 6, 0, '2012-08-10 09:00:00', 2), (6, 'Squash Court', 3.5, 17.5, 1030, 6, 0, '2012-08-10 11:00:00', 2), (6, 'Squash Court', 3.5, 17.5, 1031, 6, 0, '2012-08-10 12:30:00', 2), (6, 'Squash Court', 3.5, 17.5, 1032, 6, 0, '2012-08-10 15:00:00', 2), (6, 'Squash Court', 3.5, 17.5, 1034, 6, 0, '2012-08-10 18:00:00', 2), (0, 'Tennis Court 1', 5, 25, 1052, 0, 0, '2012-08-11 08:00:00', 3), (0, 'Tennis Court 1', 5, 25, 1054, 0, 0, '2012-08-11 12:00:00', 3), (0, 'Tennis Court 1', 5, 25, 1056, 0, 0, '2012-08-11 15:00:00', 3), (1, 'Tennis Court 2', 5, 25, 1060, 1, 0, '2012-08-11 10:00:00', 3), (1, 'Tennis Court 2', 5, 25, 1061, 1, 0, '2012-08-11 12:30:00', 3), (1, 'Tennis Court 2', 5, 25, 1062, 1, 0, '2012-08-11 14:30:00', 3), (1, 'Tennis Court 2', 5, 25, 1064, 1, 0, '2012-08-11 17:30:00', 3), (4, 'Massage Room 1', 9.9, 80, 1072, 4, 0, '2012-08-11 10:00:00', 2), (4, 'Massage Room 1', 9.9, 80, 1074, 4, 0, '2012-08-11 12:30:00', 2), (6, 'Squash Court', 3.5, 17.5, 1081, 6, 0, '2012-08-11 09:00:00', 2), (6, 'Squash Court', 3.5, 17.5, 1082, 6, 0, '2012-08-11 14:00:00', 2), (0, 'Tennis Court 1', 5, 25, 1099, 0, 0, '2012-08-12 08:00:00', 3), (0, 'Tennis Court 1', 5, 25, 1102, 0, 0, '2012-08-12 14:30:00', 3), (0, 'Tennis Court 1', 5, 25, 1104, 0, 0, '2012-08-12 17:30:00', 6), (1, 'Tennis Court 2', 5, 25, 1105, 1, 0, '2012-08-12 10:30:00', 3), (2, 'Badminton Court', 0, 15.5, 1110, 2, 0, '2012-08-12 14:30:00', 3), (4, 'Massage Room 1', 9.9, 80, 1116, 4, 0, '2012-08-12 09:30:00', 2), (4, 'Massage Room 1', 9.9, 80, 1117, 4, 0, '2012-08-12 12:00:00', 2), (5, 'Massage Room 2', 9.9, 80, 1121, 5, 0, '2012-08-12 09:30:00', 2), (5, 'Massage Room 2', 9.9, 80, 1122, 5, 0, '2012-08-12 12:30:00', 2), (6, 'Squash Court', 3.5, 17.5, 1123, 6, 0, '2012-08-12 09:00:00', 4), (6, 'Squash Court', 3.5, 17.5, 1125, 6, 0, '2012-08-12 14:30:00', 2), (8, 'Pool Table', 0, 5, 1135, 8, 0, '2012-08-12 13:30:00', 1), (8, 'Pool Table', 0, 5, 1136, 8, 0, '2012-08-12 14:30:00', 1), (0, 'Tennis Court 1', 5, 25, 1139, 0, 0, '2012-08-13 11:00:00', 3), (0, 'Tennis Court 1', 5, 25, 1141, 0, 0, '2012-08-13 18:00:00', 3), (1, 'Tennis Court 2', 5, 25, 1146, 1, 0, '2012-08-13 17:00:00', 3), (4, 'Massage Room 1', 9.9, 80, 1162, 4, 0, '2012-08-13 10:30:00', 4), (4, 'Massage Room 1', 9.9, 80, 1163, 4, 0, '2012-08-13 14:00:00', 2), (6, 'Squash Court', 3.5, 17.5, 1167, 6, 0, '2012-08-13 08:00:00', 2), (6, 'Squash Court', 3.5, 17.5, 1170, 6, 0, '2012-08-13 17:30:00', 6), (0, 'Tennis Court 1', 5, 25, 1192, 0, 0, '2012-08-14 15:00:00', 6), (1, 'Tennis Court 2', 5, 25, 1196, 1, 0, '2012-08-14 16:30:00', 3), (1, 'Tennis Court 2', 5, 25, 1197, 1, 0, '2012-08-14 18:30:00', 3), (2, 'Badminton Court', 0, 15.5, 1202, 2, 0, '2012-08-14 17:00:00', 3), (4, 'Massage Room 1', 9.9, 80, 1208, 4, 0, '2012-08-14 11:00:00', 2), (4, 'Massage Room 1', 9.9, 80, 1210, 4, 0, '2012-08-14 14:30:00', 2), (4, 'Massage Room 1', 9.9, 80, 1212, 4, 0, '2012-08-14 18:00:00', 2), (5, 'Massage Room 2', 9.9, 80, 1214, 5, 0, '2012-08-14 12:00:00', 2), (5, 'Massage Room 2', 9.9, 80, 1215, 5, 0, '2012-08-14 13:30:00', 2), (6, 'Squash Court', 3.5, 17.5, 1217, 6, 0, '2012-08-14 12:30:00', 4), (6, 'Squash Court', 3.5, 17.5, 1218, 6, 0, '2012-08-14 16:00:00', 4), (8, 'Pool Table', 0, 5, 1221, 8, 0, '2012-08-14 08:00:00', 1), (8, 'Pool Table', 0, 5, 1231, 8, 0, '2012-08-14 20:00:00', 1), (0, 'Tennis Court 1', 5, 25, 1232, 0, 0, '2012-08-15 08:00:00', 3), (0, 'Tennis Court 1', 5, 25, 1236, 0, 0, '2012-08-15 16:30:00', 3), (1, 'Tennis Court 2', 5, 25, 1238, 1, 0, '2012-08-15 08:00:00', 3), (2, 'Badminton Court', 0, 15.5, 1245, 2, 0, '2012-08-15 10:00:00', 3), (4, 'Massage Room 1', 9.9, 80, 1256, 4, 0, '2012-08-15 08:30:00', 4), (4, 'Massage Room 1', 9.9, 80, 1258, 4, 0, '2012-08-15 13:00:00', 2), (4, 'Massage Room 1', 9.9, 80, 1259, 4, 0, '2012-08-15 15:00:00', 2), (5, 'Massage Room 2', 9.9, 80, 1262, 5, 0, '2012-08-15 12:00:00', 2), (5, 'Massage Room 2', 9.9, 80, 1263, 5, 0, '2012-08-15 16:00:00', 2), (6, 'Squash Court', 3.5, 17.5, 1266, 6, 0, '2012-08-15 10:00:00', 2), (8, 'Pool Table', 0, 5, 1281, 8, 0, '2012-08-15 16:00:00', 1), (0, 'Tennis Court 1', 5, 25, 1288, 0, 0, '2012-08-16 11:00:00', 3), (0, 'Tennis Court 1', 5, 25, 1291, 0, 0, '2012-08-16 15:30:00', 3), (0, 'Tennis Court 1', 5, 25, 1292, 0, 0, '2012-08-16 17:30:00', 3), (1, 'Tennis Court 2', 5, 25, 1294, 1, 0, '2012-08-16 13:00:00', 3), (4, 'Massage Room 1', 9.9, 80, 1308, 4, 0, '2012-08-16 11:00:00', 2), (5, 'Massage Room 2', 9.9, 80, 1315, 5, 0, '2012-08-16 11:00:00', 2), (6, 'Squash Court', 3.5, 17.5, 1316, 6, 0, '2012-08-16 08:30:00', 2), (6, 'Squash Court', 3.5, 17.5, 1317, 6, 0, '2012-08-16 11:30:00', 6), (6, 'Squash Court', 3.5, 17.5, 1320, 6, 0, '2012-08-16 18:30:00', 2), (0, 'Tennis Court 1', 5, 25, 1337, 0, 0, '2012-08-17 08:30:00', 3), (1, 'Tennis Court 2', 5, 25, 1343, 1, 0, '2012-08-17 11:00:00', 6), (1, 'Tennis Court 2', 5, 25, 1345, 1, 0, '2012-08-17 17:00:00', 3), (4, 'Massage Room 1', 9.9, 80, 1360, 4, 0, '2012-08-17 14:30:00', 2), (4, 'Massage Room 1', 9.9, 80, 1362, 4, 0, '2012-08-17 16:30:00', 4), (5, 'Massage Room 2', 9.9, 80, 1365, 5, 0, '2012-08-17 15:30:00', 2), (6, 'Squash Court', 3.5, 17.5, 1366, 6, 0, '2012-08-17 08:00:00', 2), (6, 'Squash Court', 3.5, 17.5, 1368, 6, 0, '2012-08-17 11:00:00', 2), (6, 'Squash Court', 3.5, 17.5, 1370, 6, 0, '2012-08-17 15:00:00', 2), (6, 'Squash Court', 3.5, 17.5, 1371, 6, 0, '2012-08-17 17:30:00', 2), (8, 'Pool Table', 0, 5, 1381, 8, 0, '2012-08-17 12:00:00', 1), (0, 'Tennis Court 1', 5, 25, 1391, 0, 0, '2012-08-18 11:00:00', 3), (0, 'Tennis Court 1', 5, 25, 1393, 0, 0, '2012-08-18 14:00:00', 3), (1, 'Tennis Court 2', 5, 25, 1396, 1, 0, '2012-08-18 14:30:00', 3), (4, 'Massage Room 1', 9.9, 80, 1412, 4, 0, '2012-08-18 13:30:00', 2), (4, 'Massage Room 1', 9.9, 80, 1413, 4, 0, '2012-08-18 15:00:00', 4), (4, 'Massage Room 1', 9.9, 80, 1415, 4, 0, '2012-08-18 18:30:00', 4), (5, 'Massage Room 2', 9.9, 80, 1416, 5, 0, '2012-08-18 11:00:00', 4), (6, 'Squash Court', 3.5, 17.5, 1418, 6, 0, '2012-08-18 11:00:00', 2), (6, 'Squash Court', 3.5, 17.5, 1420, 6, 0, '2012-08-18 13:00:00', 2), (6, 'Squash Court', 3.5, 17.5, 1422, 6, 0, '2012-08-18 16:30:00', 4), (8, 'Pool Table', 0, 5, 1437, 8, 0, '2012-08-18 16:00:00', 1), (1, 'Tennis Court 2', 5, 25, 1446, 1, 0, '2012-08-19 15:30:00', 3), (4, 'Massage Room 1', 9.9, 80, 1456, 4, 0, '2012-08-19 09:30:00', 6), (5, 'Massage Room 2', 9.9, 80, 1462, 5, 0, '2012-08-19 17:30:00', 2), (5, 'Massage Room 2', 9.9, 80, 1463, 5, 0, '2012-08-19 19:00:00', 2), (6, 'Squash Court', 3.5, 17.5, 1464, 6, 0, '2012-08-19 09:00:00', 2), (6, 'Squash Court', 3.5, 17.5, 1466, 6, 0, '2012-08-19 12:00:00', 2), (6, 'Squash Court', 3.5, 17.5, 1469, 6, 0, '2012-08-19 16:30:00', 2), (6, 'Squash Court', 3.5, 17.5, 1470, 6, 0, '2012-08-19 18:30:00', 4), (8, 'Pool Table', 0, 5, 1476, 8, 0, '2012-08-19 10:00:00', 1), (1, 'Tennis Court 2', 5, 25, 1493, 1, 0, '2012-08-20 12:00:00', 3), (4, 'Massage Room 1', 9.9, 80, 1513, 4, 0, '2012-08-20 14:30:00', 2), (4, 'Massage Room 1', 9.9, 80, 1516, 4, 0, '2012-08-20 18:30:00', 2), (6, 'Squash Court', 3.5, 17.5, 1519, 6, 0, '2012-08-20 10:30:00', 2), (6, 'Squash Court', 3.5, 17.5, 1522, 6, 0, '2012-08-20 14:30:00', 2), (8, 'Pool Table', 0, 5, 1533, 8, 0, '2012-08-20 13:30:00', 1), (0, 'Tennis Court 1', 5, 25, 1538, 0, 0, '2012-08-21 13:00:00', 3), (0, 'Tennis Court 1', 5, 25, 1539, 0, 0, '2012-08-21 18:00:00', 3), (4, 'Massage Room 1', 9.9, 80, 1555, 4, 0, '2012-08-21 08:30:00', 2), (4, 'Massage Room 1', 9.9, 80, 1559, 4, 0, '2012-08-21 13:00:00', 2), (4, 'Massage Room 1', 9.9, 80, 1561, 4, 0, '2012-08-21 16:30:00', 2), (4, 'Massage Room 1', 9.9, 80, 1562, 4, 0, '2012-08-21 18:00:00', 2), (5, 'Massage Room 2', 9.9, 80, 1563, 5, 0, '2012-08-21 08:00:00', 2), (5, 'Massage Room 2', 9.9, 80, 1564, 5, 0, '2012-08-21 18:30:00', 2), (6, 'Squash Court', 3.5, 17.5, 1565, 6, 0, '2012-08-21 09:00:00', 2), (6, 'Squash Court', 3.5, 17.5, 1566, 6, 0, '2012-08-21 10:30:00', 4), (6, 'Squash Court', 3.5, 17.5, 1567, 6, 0, '2012-08-21 14:00:00', 2), (6, 'Squash Court', 3.5, 17.5, 1568, 6, 0, '2012-08-21 15:30:00', 2), (6, 'Squash Court', 3.5, 17.5, 1569, 6, 0, '2012-08-21 17:00:00', 2), (6, 'Squash Court', 3.5, 17.5, 1570, 6, 0, '2012-08-21 19:00:00', 2), (0, 'Tennis Court 1', 5, 25, 1588, 0, 0, '2012-08-22 11:30:00', 6), (1, 'Tennis Court 2', 5, 25, 1591, 1, 0, '2012-08-22 08:30:00', 3), (1, 'Tennis Court 2', 5, 25, 1592, 1, 0, '2012-08-22 10:30:00', 3), (1, 'Tennis Court 2', 5, 25, 1593, 1, 0, '2012-08-22 13:00:00', 3), (2, 'Badminton Court', 0, 15.5, 1597, 2, 0, '2012-08-22 10:30:00', 3), (2, 'Badminton Court', 0, 15.5, 1600, 2, 0, '2012-08-22 16:30:00', 6), (4, 'Massage Room 1', 9.9, 80, 1612, 4, 0, '2012-08-22 11:00:00', 2), (4, 'Massage Room 1', 9.9, 80, 1614, 4, 0, '2012-08-22 14:00:00', 2), (4, 'Massage Room 1', 9.9, 80, 1618, 4, 0, '2012-08-22 18:00:00', 4), (5, 'Massage Room 2', 9.9, 80, 1619, 5, 0, '2012-08-22 18:00:00', 2), (6, 'Squash Court', 3.5, 17.5, 1621, 6, 0, '2012-08-22 09:30:00', 2), (6, 'Squash Court', 3.5, 17.5, 1623, 6, 0, '2012-08-22 12:00:00', 4), (6, 'Squash Court', 3.5, 17.5, 1626, 6, 0, '2012-08-22 18:00:00', 4), (1, 'Tennis Court 2', 5, 25, 1650, 1, 0, '2012-08-23 13:00:00', 3), (4, 'Massage Room 1', 9.9, 80, 1666, 4, 0, '2012-08-23 08:30:00', 4), (4, 'Massage Room 1', 9.9, 80, 1667, 4, 0, '2012-08-23 11:00:00', 2), (5, 'Massage Room 2', 9.9, 80, 1675, 5, 0, '2012-08-23 12:00:00', 2), (5, 'Massage Room 2', 9.9, 80, 1676, 5, 0, '2012-08-23 16:30:00', 2), (6, 'Squash Court', 3.5, 17.5, 1678, 6, 0, '2012-08-23 09:00:00', 4), (0, 'Tennis Court 1', 5, 25, 1702, 0, 0, '2012-08-24 12:30:00', 6), (1, 'Tennis Court 2', 5, 25, 1708, 1, 0, '2012-08-24 11:30:00', 3), (2, 'Badminton Court', 0, 15.5, 1713, 2, 0, '2012-08-24 11:00:00', 3), (4, 'Massage Room 1', 9.9, 80, 1723, 4, 0, '2012-08-24 08:00:00', 2), (4, 'Massage Room 1', 9.9, 80, 1728, 4, 0, '2012-08-24 17:00:00', 2), (4, 'Massage Room 1', 9.9, 80, 1730, 4, 0, '2012-08-24 19:00:00', 2), (5, 'Massage Room 2', 9.9, 80, 1731, 5, 0, '2012-08-24 18:30:00', 2), (6, 'Squash Court', 3.5, 17.5, 1733, 6, 0, '2012-08-24 11:00:00', 2), (6, 'Squash Court', 3.5, 17.5, 1735, 6, 0, '2012-08-24 14:30:00', 2), (6, 'Squash Court', 3.5, 17.5, 1738, 6, 0, '2012-08-24 19:30:00', 2), (0, 'Tennis Court 1', 5, 25, 1751, 0, 0, '2012-08-25 12:30:00', 3), (0, 'Tennis Court 1', 5, 25, 1753, 0, 0, '2012-08-25 15:30:00', 3), (1, 'Tennis Court 2', 5, 25, 1757, 1, 0, '2012-08-25 13:30:00', 9), (3, 'Table Tennis', 0, 5, 1766, 3, 0, '2012-08-25 12:00:00', 2), (4, 'Massage Room 1', 9.9, 80, 1771, 4, 0, '2012-08-25 09:30:00', 2), (5, 'Massage Room 2', 9.9, 80, 1779, 5, 0, '2012-08-25 14:30:00', 2), (6, 'Squash Court', 3.5, 17.5, 1780, 6, 0, '2012-08-25 08:30:00', 4), (6, 'Squash Court', 3.5, 17.5, 1781, 6, 0, '2012-08-25 11:00:00', 2), (6, 'Squash Court', 3.5, 17.5, 1783, 6, 0, '2012-08-25 18:30:00', 2), (7, 'Snooker Table', 0, 5, 1790, 7, 0, '2012-08-25 19:00:00', 2), (0, 'Tennis Court 1', 5, 25, 1805, 0, 0, '2012-08-26 15:00:00', 3), (1, 'Tennis Court 2', 5, 25, 1810, 1, 0, '2012-08-26 13:00:00', 6), (1, 'Tennis Court 2', 5, 25, 1812, 1, 0, '2012-08-26 17:30:00', 3), (2, 'Badminton Court', 0, 15.5, 1817, 2, 0, '2012-08-26 17:30:00', 3), (3, 'Table Tennis', 0, 5, 1821, 3, 0, '2012-08-26 18:00:00', 2), (4, 'Massage Room 1', 9.9, 80, 1823, 4, 0, '2012-08-26 08:00:00', 4), (4, 'Massage Room 1', 9.9, 80, 1825, 4, 0, '2012-08-26 11:30:00', 2), (4, 'Massage Room 1', 9.9, 80, 1827, 4, 0, '2012-08-26 15:30:00', 2), (5, 'Massage Room 2', 9.9, 80, 1829, 5, 0, '2012-08-26 08:00:00', 2), (6, 'Squash Court', 3.5, 17.5, 1830, 6, 0, '2012-08-26 08:00:00', 2), (6, 'Squash Court', 3.5, 17.5, 1831, 6, 0, '2012-08-26 11:00:00', 2), (6, 'Squash Court', 3.5, 17.5, 1833, 6, 0, '2012-08-26 15:00:00', 2), (6, 'Squash Court', 3.5, 17.5, 1835, 6, 0, '2012-08-26 18:30:00', 4), (7, 'Snooker Table', 0, 5, 1842, 7, 0, '2012-08-26 19:00:00', 2), (8, 'Pool Table', 0, 5, 1852, 8, 0, '2012-08-26 16:00:00', 1), (8, 'Pool Table', 0, 5, 1853, 8, 0, '2012-08-26 17:00:00', 1), (0, 'Tennis Court 1', 5, 25, 1856, 0, 0, '2012-08-27 09:00:00', 3), (0, 'Tennis Court 1', 5, 25, 1860, 0, 0, '2012-08-27 17:30:00', 6), (1, 'Tennis Court 2', 5, 25, 1862, 1, 0, '2012-08-27 11:00:00', 3), (2, 'Badminton Court', 0, 15.5, 1867, 2, 0, '2012-08-27 08:00:00', 3), (2, 'Badminton Court', 0, 15.5, 1868, 2, 0, '2012-08-27 11:00:00', 3), (3, 'Table Tennis', 0, 5, 1872, 3, 0, '2012-08-27 11:30:00', 2), (4, 'Massage Room 1', 9.9, 80, 1879, 4, 0, '2012-08-27 12:00:00', 2), (4, 'Massage Room 1', 9.9, 80, 1883, 4, 0, '2012-08-27 16:30:00', 2), (5, 'Massage Room 2', 9.9, 80, 1887, 5, 0, '2012-08-27 10:30:00', 2), (6, 'Squash Court', 3.5, 17.5, 1889, 6, 0, '2012-08-27 08:00:00', 2), (6, 'Squash Court', 3.5, 17.5, 1890, 6, 0, '2012-08-27 09:30:00', 4), (6, 'Squash Court', 3.5, 17.5, 1892, 6, 0, '2012-08-27 15:00:00', 2), (6, 'Squash Court', 3.5, 17.5, 1894, 6, 0, '2012-08-27 17:30:00', 2), (2, 'Badminton Court', 0, 15.5, 1928, 2, 0, '2012-08-28 18:00:00', 3), (4, 'Massage Room 1', 9.9, 80, 1935, 4, 0, '2012-08-28 11:30:00', 4), (4, 'Massage Room 1', 9.9, 80, 1938, 4, 0, '2012-08-28 16:30:00', 2), (5, 'Massage Room 2', 9.9, 80, 1941, 5, 0, '2012-08-28 09:00:00', 2), (5, 'Massage Room 2', 9.9, 80, 1943, 5, 0, '2012-08-28 16:00:00', 2), (5, 'Massage Room 2', 9.9, 80, 1944, 5, 0, '2012-08-28 18:00:00', 2), (6, 'Squash Court', 3.5, 17.5, 1946, 6, 0, '2012-08-28 10:30:00', 4), (8, 'Pool Table', 0, 5, 1966, 8, 0, '2012-08-28 19:00:00', 1), (0, 'Tennis Court 1', 5, 25, 1967, 0, 0, '2012-08-29 08:30:00', 3), (0, 'Tennis Court 1', 5, 25, 1970, 0, 0, '2012-08-29 16:00:00', 3), (0, 'Tennis Court 1', 5, 25, 1972, 0, 0, '2012-08-29 19:00:00', 3), (4, 'Massage Room 1', 9.9, 80, 1991, 4, 0, '2012-08-29 08:30:00', 2), (4, 'Massage Room 1', 9.9, 80, 1993, 4, 0, '2012-08-29 11:00:00', 2), (4, 'Massage Room 1', 9.9, 80, 1995, 4, 0, '2012-08-29 13:00:00', 4), (4, 'Massage Room 1', 9.9, 80, 1997, 4, 0, '2012-08-29 16:30:00', 2), (6, 'Squash Court', 3.5, 17.5, 2000, 6, 0, '2012-08-29 08:00:00', 2), (6, 'Squash Court', 3.5, 17.5, 2002, 6, 0, '2012-08-29 13:00:00', 2), (6, 'Squash Court', 3.5, 17.5, 2003, 6, 0, '2012-08-29 15:30:00', 2), (8, 'Pool Table', 0, 5, 2014, 8, 0, '2012-08-29 11:30:00', 1), (8, 'Pool Table', 0, 5, 2018, 8, 0, '2012-08-29 17:30:00', 1), (0, 'Tennis Court 1', 5, 25, 2021, 0, 0, '2012-08-30 08:00:00', 3), (0, 'Tennis Court 1', 5, 25, 2024, 0, 0, '2012-08-30 14:00:00', 3), (1, 'Tennis Court 2', 5, 25, 2029, 1, 0, '2012-08-30 16:00:00', 3), (1, 'Tennis Court 2', 5, 25, 2030, 1, 0, '2012-08-30 19:00:00', 3), (4, 'Massage Room 1', 9.9, 80, 2043, 4, 0, '2012-08-30 08:00:00', 2), (4, 'Massage Room 1', 9.9, 80, 2045, 4, 0, '2012-08-30 10:00:00', 2), (4, 'Massage Room 1', 9.9, 80, 2049, 4, 0, '2012-08-30 18:30:00', 2), (6, 'Squash Court', 3.5, 17.5, 2052, 6, 0, '2012-08-30 13:00:00', 4), (6, 'Squash Court', 3.5, 17.5, 2053, 6, 0, '2012-08-30 15:30:00', 2), (6, 'Squash Court', 3.5, 17.5, 2055, 6, 0, '2012-08-30 17:30:00', 2), (7, 'Snooker Table', 0, 5, 2056, 7, 0, '2012-08-30 11:30:00', 2), (0, 'Tennis Court 1', 5, 25, 2073, 0, 0, '2012-08-31 10:30:00', 3), (1, 'Tennis Court 2', 5, 25, 2078, 1, 0, '2012-08-31 08:00:00', 3), (1, 'Tennis Court 2', 5, 25, 2079, 1, 0, '2012-08-31 10:30:00', 3), (2, 'Badminton Court', 0, 15.5, 2085, 2, 0, '2012-08-31 11:00:00', 3), (2, 'Badminton Court', 0, 15.5, 2089, 2, 0, '2012-08-31 19:00:00', 3), (4, 'Massage Room 1', 9.9, 80, 2094, 4, 0, '2012-08-31 08:30:00', 2), (4, 'Massage Room 1', 9.9, 80, 2095, 4, 0, '2012-08-31 10:00:00', 2), (4, 'Massage Room 1', 9.9, 80, 2097, 4, 0, '2012-08-31 13:30:00', 2), (5, 'Massage Room 2', 9.9, 80, 2102, 5, 0, '2012-08-31 09:30:00', 2), (5, 'Massage Room 2', 9.9, 80, 2103, 5, 0, '2012-08-31 11:00:00', 2), (5, 'Massage Room 2', 9.9, 80, 2104, 5, 0, '2012-08-31 15:00:00', 2), (6, 'Squash Court', 3.5, 17.5, 2107, 6, 0, '2012-08-31 11:00:00', 4), (6, 'Squash Court', 3.5, 17.5, 2108, 6, 0, '2012-08-31 14:30:00', 4), (0, 'Tennis Court 1', 5, 25, 2130, 0, 0, '2012-09-01 08:00:00', 3), (1, 'Tennis Court 2', 5, 25, 2135, 1, 0, '2012-09-01 08:00:00', 3), (1, 'Tennis Court 2', 5, 25, 2139, 1, 0, '2012-09-01 16:30:00', 3), (3, 'Table Tennis', 0, 5, 2151, 3, 0, '2012-09-01 16:30:00', 2), (4, 'Massage Room 1', 9.9, 80, 2157, 4, 0, '2012-09-01 13:30:00', 6), (4, 'Massage Room 1', 9.9, 80, 2158, 4, 0, '2012-09-01 17:30:00', 2), (5, 'Massage Room 2', 9.9, 80, 2160, 5, 0, '2012-09-01 09:30:00', 2), (6, 'Squash Court', 3.5, 17.5, 2162, 6, 0, '2012-09-01 09:30:00', 8), (6, 'Squash Court', 3.5, 17.5, 2164, 6, 0, '2012-09-01 16:00:00', 4), (0, 'Tennis Court 1', 5, 25, 2182, 0, 0, '2012-09-02 10:30:00', 3), (1, 'Tennis Court 2', 5, 25, 2189, 1, 0, '2012-09-02 19:00:00', 3), (2, 'Badminton Court', 0, 15.5, 2190, 2, 0, '2012-09-02 09:30:00', 3), (2, 'Badminton Court', 0, 15.5, 2192, 2, 0, '2012-09-02 12:30:00', 3), (2, 'Badminton Court', 0, 15.5, 2195, 2, 0, '2012-09-02 19:00:00', 3), (4, 'Massage Room 1', 9.9, 80, 2201, 4, 0, '2012-09-02 08:00:00', 2), (4, 'Massage Room 1', 9.9, 80, 2202, 4, 0, '2012-09-02 09:30:00', 6), (4, 'Massage Room 1', 9.9, 80, 2204, 4, 0, '2012-09-02 13:30:00', 4), (4, 'Massage Room 1', 9.9, 80, 2208, 4, 0, '2012-09-02 18:30:00', 2), (5, 'Massage Room 2', 9.9, 80, 2209, 5, 0, '2012-09-02 09:30:00', 2), (5, 'Massage Room 2', 9.9, 80, 2210, 5, 0, '2012-09-02 11:30:00', 2), (6, 'Squash Court', 3.5, 17.5, 2211, 6, 0, '2012-09-02 08:30:00', 4), (6, 'Squash Court', 3.5, 17.5, 2212, 6, 0, '2012-09-02 11:00:00', 2), (6, 'Squash Court', 3.5, 17.5, 2214, 6, 0, '2012-09-02 15:00:00', 4), (6, 'Squash Court', 3.5, 17.5, 2215, 6, 0, '2012-09-02 17:30:00', 2), (6, 'Squash Court', 3.5, 17.5, 2216, 6, 0, '2012-09-02 19:00:00', 2), (0, 'Tennis Court 1', 5, 25, 2236, 0, 0, '2012-09-03 08:00:00', 6), (0, 'Tennis Court 1', 5, 25, 2239, 0, 0, '2012-09-03 15:30:00', 3), (1, 'Tennis Court 2', 5, 25, 2242, 1, 0, '2012-09-03 10:00:00', 6), (1, 'Tennis Court 2', 5, 25, 2243, 1, 0, '2012-09-03 13:30:00', 3), (2, 'Badminton Court', 0, 15.5, 2250, 2, 0, '2012-09-03 19:00:00', 3), (4, 'Massage Room 1', 9.9, 80, 2257, 4, 0, '2012-09-03 08:00:00', 2), (4, 'Massage Room 1', 9.9, 80, 2259, 4, 0, '2012-09-03 11:00:00', 4), (4, 'Massage Room 1', 9.9, 80, 2261, 4, 0, '2012-09-03 15:00:00', 2), (4, 'Massage Room 1', 9.9, 80, 2263, 4, 0, '2012-09-03 17:00:00', 2), (6, 'Squash Court', 3.5, 17.5, 2267, 6, 0, '2012-09-03 12:00:00', 2), (6, 'Squash Court', 3.5, 17.5, 2268, 6, 0, '2012-09-03 13:30:00', 4), (6, 'Squash Court', 3.5, 17.5, 2271, 6, 0, '2012-09-03 19:30:00', 2), (8, 'Pool Table', 0, 5, 2282, 8, 0, '2012-09-03 11:30:00', 1), (0, 'Tennis Court 1', 5, 25, 2292, 0, 0, '2012-09-04 10:00:00', 3), (0, 'Tennis Court 1', 5, 25, 2294, 0, 0, '2012-09-04 13:30:00', 3), (0, 'Tennis Court 1', 5, 25, 2296, 0, 0, '2012-09-04 16:30:00', 3), (1, 'Tennis Court 2', 5, 25, 2297, 1, 0, '2012-09-04 10:00:00', 3), (1, 'Tennis Court 2', 5, 25, 2299, 1, 0, '2012-09-04 14:00:00', 3), (1, 'Tennis Court 2', 5, 25, 2300, 1, 0, '2012-09-04 16:00:00', 3), (2, 'Badminton Court', 0, 15.5, 2306, 2, 0, '2012-09-04 12:30:00', 3), (2, 'Badminton Court', 0, 15.5, 2307, 2, 0, '2012-09-04 15:00:00', 3), (4, 'Massage Room 1', 9.9, 80, 2316, 4, 0, '2012-09-04 08:00:00', 2), (4, 'Massage Room 1', 9.9, 80, 2318, 4, 0, '2012-09-04 11:30:00', 2), (4, 'Massage Room 1', 9.9, 80, 2320, 4, 0, '2012-09-04 13:30:00', 2), (4, 'Massage Room 1', 9.9, 80, 2322, 4, 0, '2012-09-04 16:00:00', 2), (4, 'Massage Room 1', 9.9, 80, 2323, 4, 0, '2012-09-04 17:30:00', 2), (5, 'Massage Room 2', 9.9, 80, 2326, 5, 0, '2012-09-04 09:30:00', 2), (5, 'Massage Room 2', 9.9, 80, 2327, 5, 0, '2012-09-04 12:30:00', 2), (6, 'Squash Court', 3.5, 17.5, 2328, 6, 0, '2012-09-04 08:00:00', 4), (6, 'Squash Court', 3.5, 17.5, 2329, 6, 0, '2012-09-04 11:00:00', 2), (6, 'Squash Court', 3.5, 17.5, 2331, 6, 0, '2012-09-04 13:30:00', 2), (7, 'Snooker Table', 0, 5, 2339, 7, 0, '2012-09-04 17:30:00', 2), (8, 'Pool Table', 0, 5, 2345, 8, 0, '2012-09-04 13:00:00', 1), (0, 'Tennis Court 1', 5, 25, 2355, 0, 0, '2012-09-05 11:00:00', 3), (4, 'Massage Room 1', 9.9, 80, 2375, 4, 0, '2012-09-05 09:00:00', 4), (4, 'Massage Room 1', 9.9, 80, 2376, 4, 0, '2012-09-05 11:30:00', 2), (4, 'Massage Room 1', 9.9, 80, 2378, 4, 0, '2012-09-05 13:30:00', 6), (4, 'Massage Room 1', 9.9, 80, 2380, 4, 0, '2012-09-05 18:00:00', 2), (5, 'Massage Room 2', 9.9, 80, 2382, 5, 0, '2012-09-05 09:00:00', 2), (5, 'Massage Room 2', 9.9, 80, 2383, 5, 0, '2012-09-05 11:00:00', 2), (5, 'Massage Room 2', 9.9, 80, 2384, 5, 0, '2012-09-05 12:30:00', 2), (6, 'Squash Court', 3.5, 17.5, 2385, 6, 0, '2012-09-05 08:30:00', 4), (6, 'Squash Court', 3.5, 17.5, 2386, 6, 0, '2012-09-05 11:00:00', 2), (6, 'Squash Court', 3.5, 17.5, 2388, 6, 0, '2012-09-05 14:00:00', 2), (6, 'Squash Court', 3.5, 17.5, 2389, 6, 0, '2012-09-05 15:30:00', 6), (8, 'Pool Table', 0, 5, 2403, 8, 0, '2012-09-05 14:30:00', 1), (1, 'Tennis Court 2', 5, 25, 2416, 1, 0, '2012-09-06 08:30:00', 3), (1, 'Tennis Court 2', 5, 25, 2418, 1, 0, '2012-09-06 11:30:00', 3), (4, 'Massage Room 1', 9.9, 80, 2434, 4, 0, '2012-09-06 08:00:00', 2), (4, 'Massage Room 1', 9.9, 80, 2438, 4, 0, '2012-09-06 13:00:00', 2), (4, 'Massage Room 1', 9.9, 80, 2440, 4, 0, '2012-09-06 15:00:00', 4), (5, 'Massage Room 2', 9.9, 80, 2444, 5, 0, '2012-09-06 11:00:00', 2), (6, 'Squash Court', 3.5, 17.5, 2445, 6, 0, '2012-09-06 09:00:00', 4), (6, 'Squash Court', 3.5, 17.5, 2446, 6, 0, '2012-09-06 11:30:00', 2), (6, 'Squash Court', 3.5, 17.5, 2448, 6, 0, '2012-09-06 13:30:00', 2), (6, 'Squash Court', 3.5, 17.5, 2449, 6, 0, '2012-09-06 15:30:00', 2), (6, 'Squash Court', 3.5, 17.5, 2450, 6, 0, '2012-09-06 17:00:00', 2), (6, 'Squash Court', 3.5, 17.5, 2451, 6, 0, '2012-09-06 18:30:00', 2), (7, 'Snooker Table', 0, 5, 2453, 7, 0, '2012-09-06 09:00:00', 2), (7, 'Snooker Table', 0, 5, 2457, 7, 0, '2012-09-06 18:30:00', 2), (8, 'Pool Table', 0, 5, 2464, 8, 0, '2012-09-06 13:30:00', 1), (0, 'Tennis Court 1', 5, 25, 2472, 0, 0, '2012-09-07 08:00:00', 3), (0, 'Tennis Court 1', 5, 25, 2474, 0, 0, '2012-09-07 12:30:00', 3), (2, 'Badminton Court', 0, 15.5, 2487, 2, 0, '2012-09-07 12:30:00', 3), (2, 'Badminton Court', 0, 15.5, 2489, 2, 0, '2012-09-07 17:00:00', 3), (4, 'Massage Room 1', 9.9, 80, 2501, 4, 0, '2012-09-07 16:00:00', 2), (6, 'Squash Court', 3.5, 17.5, 2506, 6, 0, '2012-09-07 09:30:00', 8), (6, 'Squash Court', 3.5, 17.5, 2507, 6, 0, '2012-09-07 14:00:00', 2), (0, 'Tennis Court 1', 5, 25, 2530, 0, 0, '2012-09-08 09:30:00', 3), (0, 'Tennis Court 1', 5, 25, 2532, 0, 0, '2012-09-08 12:30:00', 3), (1, 'Tennis Court 2', 5, 25, 2539, 1, 0, '2012-09-08 13:00:00', 3), (4, 'Massage Room 1', 9.9, 80, 2557, 4, 0, '2012-09-08 09:30:00', 8), (4, 'Massage Room 1', 9.9, 80, 2559, 4, 0, '2012-09-08 14:30:00', 4), (4, 'Massage Room 1', 9.9, 80, 2562, 4, 0, '2012-09-08 19:00:00', 2), (6, 'Squash Court', 3.5, 17.5, 2564, 6, 0, '2012-09-08 09:00:00', 2), (6, 'Squash Court', 3.5, 17.5, 2566, 6, 0, '2012-09-08 16:00:00', 2), (6, 'Squash Court', 3.5, 17.5, 2568, 6, 0, '2012-09-08 18:00:00', 4), (7, 'Snooker Table', 0, 5, 2572, 7, 0, '2012-09-08 13:30:00', 2), (8, 'Pool Table', 0, 5, 2580, 8, 0, '2012-09-08 09:30:00', 1), (8, 'Pool Table', 0, 5, 2583, 8, 0, '2012-09-08 11:30:00', 1), (0, 'Tennis Court 1', 5, 25, 2594, 0, 0, '2012-09-09 17:00:00', 3), (1, 'Tennis Court 2', 5, 25, 2597, 1, 0, '2012-09-09 10:00:00', 3), (1, 'Tennis Court 2', 5, 25, 2601, 1, 0, '2012-09-09 17:30:00', 6), (3, 'Table Tennis', 0, 5, 2610, 3, 0, '2012-09-09 15:30:00', 2), (3, 'Table Tennis', 0, 5, 2612, 3, 0, '2012-09-09 18:00:00', 2), (4, 'Massage Room 1', 9.9, 80, 2617, 4, 0, '2012-09-09 11:00:00', 4), (4, 'Massage Room 1', 9.9, 80, 2621, 4, 0, '2012-09-09 17:00:00', 2), (5, 'Massage Room 2', 9.9, 80, 2624, 5, 0, '2012-09-09 14:00:00', 2), (6, 'Squash Court', 3.5, 17.5, 2625, 6, 0, '2012-09-09 08:30:00', 2), (6, 'Squash Court', 3.5, 17.5, 2626, 6, 0, '2012-09-09 11:00:00', 6), (6, 'Squash Court', 3.5, 17.5, 2629, 6, 0, '2012-09-09 16:30:00', 4), (8, 'Pool Table', 0, 5, 2639, 8, 0, '2012-09-09 08:30:00', 1), (8, 'Pool Table', 0, 5, 2647, 8, 0, '2012-09-09 13:00:00', 1), (8, 'Pool Table', 0, 5, 2648, 8, 0, '2012-09-09 14:30:00', 1), (0, 'Tennis Court 1', 5, 25, 2659, 0, 0, '2012-09-10 13:30:00', 3), (1, 'Tennis Court 2', 5, 25, 2663, 1, 0, '2012-09-10 09:30:00', 3), (1, 'Tennis Court 2', 5, 25, 2664, 1, 0, '2012-09-10 13:00:00', 3), (1, 'Tennis Court 2', 5, 25, 2666, 1, 0, '2012-09-10 16:00:00', 3), (1, 'Tennis Court 2', 5, 25, 2668, 1, 0, '2012-09-10 19:00:00', 3), (2, 'Badminton Court', 0, 15.5, 2672, 2, 0, '2012-09-10 15:30:00', 3), (4, 'Massage Room 1', 9.9, 80, 2692, 4, 0, '2012-09-10 19:00:00', 2), (5, 'Massage Room 2', 9.9, 80, 2693, 5, 0, '2012-09-10 10:00:00', 2), (5, 'Massage Room 2', 9.9, 80, 2694, 5, 0, '2012-09-10 11:30:00', 2), (6, 'Squash Court', 3.5, 17.5, 2695, 6, 0, '2012-09-10 08:30:00', 2), (6, 'Squash Court', 3.5, 17.5, 2699, 6, 0, '2012-09-10 14:00:00', 6), (6, 'Squash Court', 3.5, 17.5, 2700, 6, 0, '2012-09-10 17:30:00', 2), (4, 'Massage Room 1', 9.9, 80, 2748, 4, 0, '2012-09-11 10:00:00', 4), (4, 'Massage Room 1', 9.9, 80, 2752, 4, 0, '2012-09-11 15:30:00', 2), (4, 'Massage Room 1', 9.9, 80, 2754, 4, 0, '2012-09-11 18:00:00', 2), (5, 'Massage Room 2', 9.9, 80, 2756, 5, 0, '2012-09-11 11:30:00', 2), (5, 'Massage Room 2', 9.9, 80, 2757, 5, 0, '2012-09-11 18:00:00', 2), (6, 'Squash Court', 3.5, 17.5, 2759, 6, 0, '2012-09-11 09:00:00', 2), (6, 'Squash Court', 3.5, 17.5, 2761, 6, 0, '2012-09-11 12:30:00', 4), (6, 'Squash Court', 3.5, 17.5, 2763, 6, 0, '2012-09-11 15:30:00', 4), (6, 'Squash Court', 3.5, 17.5, 2765, 6, 0, '2012-09-11 18:30:00', 2), (8, 'Pool Table', 0, 5, 2778, 8, 0, '2012-09-11 10:30:00', 1), (0, 'Tennis Court 1', 5, 25, 2788, 0, 0, '2012-09-12 10:00:00', 3), (0, 'Tennis Court 1', 5, 25, 2792, 0, 0, '2012-09-12 16:30:00', 3), (1, 'Tennis Court 2', 5, 25, 2795, 1, 0, '2012-09-12 10:00:00', 3), (1, 'Tennis Court 2', 5, 25, 2798, 1, 0, '2012-09-12 15:00:00', 6), (3, 'Table Tennis', 0, 5, 2811, 3, 0, '2012-09-12 19:00:00', 2), (4, 'Massage Room 1', 9.9, 80, 2813, 4, 0, '2012-09-12 09:00:00', 2), (4, 'Massage Room 1', 9.9, 80, 2814, 4, 0, '2012-09-12 10:30:00', 2), (4, 'Massage Room 1', 9.9, 80, 2816, 4, 0, '2012-09-12 12:30:00', 4), (4, 'Massage Room 1', 9.9, 80, 2818, 4, 0, '2012-09-12 15:30:00', 2), (5, 'Massage Room 2', 9.9, 80, 2822, 5, 0, '2012-09-12 16:30:00', 2), (6, 'Squash Court', 3.5, 17.5, 2823, 6, 0, '2012-09-12 08:30:00', 4), (6, 'Squash Court', 3.5, 17.5, 2824, 6, 0, '2012-09-12 11:00:00', 6), (6, 'Squash Court', 3.5, 17.5, 2826, 6, 0, '2012-09-12 15:00:00', 4), (6, 'Squash Court', 3.5, 17.5, 2827, 6, 0, '2012-09-12 17:30:00', 4), (0, 'Tennis Court 1', 5, 25, 2847, 0, 0, '2012-09-13 10:30:00', 6), (0, 'Tennis Court 1', 5, 25, 2850, 0, 0, '2012-09-13 17:30:00', 6), (1, 'Tennis Court 2', 5, 25, 2853, 1, 0, '2012-09-13 12:00:00', 6), (4, 'Massage Room 1', 9.9, 80, 2882, 4, 0, '2012-09-13 18:00:00', 2), (5, 'Massage Room 2', 9.9, 80, 2884, 5, 0, '2012-09-13 08:30:00', 2), (5, 'Massage Room 2', 9.9, 80, 2885, 5, 0, '2012-09-13 16:00:00', 2), (5, 'Massage Room 2', 9.9, 80, 2886, 5, 0, '2012-09-13 19:00:00', 2), (6, 'Squash Court', 3.5, 17.5, 2888, 6, 0, '2012-09-13 10:30:00', 14), (6, 'Squash Court', 3.5, 17.5, 2889, 6, 0, '2012-09-13 18:00:00', 2), (7, 'Snooker Table', 0, 5, 2897, 7, 0, '2012-09-13 18:00:00', 2), (8, 'Pool Table', 0, 5, 2905, 8, 0, '2012-09-13 12:00:00', 1), (8, 'Pool Table', 0, 5, 2913, 8, 0, '2012-09-13 19:00:00', 1), (0, 'Tennis Court 1', 5, 25, 2920, 0, 0, '2012-09-14 16:00:00', 3), (0, 'Tennis Court 1', 5, 25, 2922, 0, 0, '2012-09-14 19:00:00', 3), (1, 'Tennis Court 2', 5, 25, 2925, 1, 0, '2012-09-14 14:00:00', 3), (1, 'Tennis Court 2', 5, 25, 2926, 1, 0, '2012-09-14 17:00:00', 6), (4, 'Massage Room 1', 9.9, 80, 2937, 4, 0, '2012-09-14 09:00:00', 2), (4, 'Massage Room 1', 9.9, 80, 2940, 4, 0, '2012-09-14 13:00:00', 2), (4, 'Massage Room 1', 9.9, 80, 2942, 4, 0, '2012-09-14 16:00:00', 2), (5, 'Massage Room 2', 9.9, 80, 2946, 5, 0, '2012-09-14 11:00:00', 4), (6, 'Squash Court', 3.5, 17.5, 2948, 6, 0, '2012-09-14 09:30:00', 4), (6, 'Squash Court', 3.5, 17.5, 2949, 6, 0, '2012-09-14 12:30:00', 2), (6, 'Squash Court', 3.5, 17.5, 2951, 6, 0, '2012-09-14 15:00:00', 2), (0, 'Tennis Court 1', 5, 25, 2978, 0, 0, '2012-09-15 08:00:00', 12), (2, 'Badminton Court', 0, 15.5, 2986, 2, 0, '2012-09-15 08:00:00', 3), (2, 'Badminton Court', 0, 15.5, 2988, 2, 0, '2012-09-15 12:00:00', 3), (2, 'Badminton Court', 0, 15.5, 2991, 2, 0, '2012-09-15 17:30:00', 3), (3, 'Table Tennis', 0, 5, 2999, 3, 0, '2012-09-15 17:30:00', 2), (4, 'Massage Room 1', 9.9, 80, 3002, 4, 0, '2012-09-15 09:00:00', 2), (4, 'Massage Room 1', 9.9, 80, 3005, 4, 0, '2012-09-15 12:00:00', 8), (5, 'Massage Room 2', 9.9, 80, 3009, 5, 0, '2012-09-15 12:30:00', 2), (6, 'Squash Court', 3.5, 17.5, 3010, 6, 0, '2012-09-15 08:00:00', 2), (6, 'Squash Court', 3.5, 17.5, 3011, 6, 0, '2012-09-15 09:30:00', 4), (6, 'Squash Court', 3.5, 17.5, 3018, 6, 0, '2012-09-15 18:30:00', 4), (0, 'Tennis Court 1', 5, 25, 3041, 0, 0, '2012-09-16 08:00:00', 9), (0, 'Tennis Court 1', 5, 25, 3044, 0, 0, '2012-09-16 15:30:00', 3), (1, 'Tennis Court 2', 5, 25, 3048, 1, 0, '2012-09-16 09:30:00', 6), (1, 'Tennis Court 2', 5, 25, 3052, 1, 0, '2012-09-16 17:30:00', 6), (3, 'Table Tennis', 0, 5, 3062, 3, 0, '2012-09-16 13:00:00', 2), (4, 'Massage Room 1', 9.9, 80, 3067, 4, 0, '2012-09-16 09:00:00', 2), (4, 'Massage Room 1', 9.9, 80, 3071, 4, 0, '2012-09-16 16:00:00', 2), (4, 'Massage Room 1', 9.9, 80, 3072, 4, 0, '2012-09-16 17:30:00', 4), (6, 'Squash Court', 3.5, 17.5, 3076, 6, 0, '2012-09-16 09:00:00', 2), (6, 'Squash Court', 3.5, 17.5, 3080, 6, 0, '2012-09-16 14:30:00', 4), (6, 'Squash Court', 3.5, 17.5, 3081, 6, 0, '2012-09-16 17:30:00', 6), (0, 'Tennis Court 1', 5, 25, 3103, 0, 0, '2012-09-17 09:30:00', 3), (0, 'Tennis Court 1', 5, 25, 3106, 0, 0, '2012-09-17 16:30:00', 3), (1, 'Tennis Court 2', 5, 25, 3110, 1, 0, '2012-09-17 11:30:00', 3), (1, 'Tennis Court 2', 5, 25, 3111, 1, 0, '2012-09-17 13:30:00', 3), (2, 'Badminton Court', 0, 15.5, 3119, 2, 0, '2012-09-17 15:00:00', 3), (4, 'Massage Room 1', 9.9, 80, 3129, 4, 0, '2012-09-17 09:30:00', 2), (4, 'Massage Room 1', 9.9, 80, 3130, 4, 0, '2012-09-17 11:00:00', 4), (4, 'Massage Room 1', 9.9, 80, 3134, 4, 0, '2012-09-17 16:30:00', 2), (4, 'Massage Room 1', 9.9, 80, 3137, 4, 0, '2012-09-17 19:30:00', 2), (5, 'Massage Room 2', 9.9, 80, 3138, 5, 0, '2012-09-17 12:00:00', 2), (6, 'Squash Court', 3.5, 17.5, 3140, 6, 0, '2012-09-17 08:00:00', 4), (6, 'Squash Court', 3.5, 17.5, 3141, 6, 0, '2012-09-17 10:30:00', 4), (6, 'Squash Court', 3.5, 17.5, 3143, 6, 0, '2012-09-17 13:30:00', 2), (6, 'Squash Court', 3.5, 17.5, 3144, 6, 0, '2012-09-17 15:00:00', 8), (7, 'Snooker Table', 0, 5, 3149, 7, 0, '2012-09-17 15:00:00', 2), (8, 'Pool Table', 0, 5, 3155, 8, 0, '2012-09-17 12:00:00', 1), (1, 'Tennis Court 2', 5, 25, 3176, 1, 0, '2012-09-18 13:30:00', 3), (4, 'Massage Room 1', 9.9, 80, 3193, 4, 0, '2012-09-18 09:30:00', 2), (4, 'Massage Room 1', 9.9, 80, 3197, 4, 0, '2012-09-18 15:00:00', 2), (4, 'Massage Room 1', 9.9, 80, 3199, 4, 0, '2012-09-18 17:00:00', 2), (4, 'Massage Room 1', 9.9, 80, 3201, 4, 0, '2012-09-18 19:00:00', 2), (5, 'Massage Room 2', 9.9, 80, 3202, 5, 0, '2012-09-18 08:30:00', 2), (5, 'Massage Room 2', 9.9, 80, 3203, 5, 0, '2012-09-18 18:00:00', 2), (6, 'Squash Court', 3.5, 17.5, 3204, 6, 0, '2012-09-18 08:30:00', 2), (6, 'Squash Court', 3.5, 17.5, 3206, 6, 0, '2012-09-18 11:00:00', 2), (6, 'Squash Court', 3.5, 17.5, 3208, 6, 0, '2012-09-18 15:00:00', 6), (6, 'Squash Court', 3.5, 17.5, 3209, 6, 0, '2012-09-18 18:30:00', 4), (7, 'Snooker Table', 0, 5, 3211, 7, 0, '2012-09-18 11:00:00', 2), (8, 'Pool Table', 0, 5, 3216, 8, 0, '2012-09-18 10:30:00', 1), (8, 'Pool Table', 0, 5, 3226, 8, 0, '2012-09-18 17:30:00', 1), (8, 'Pool Table', 0, 5, 3228, 8, 0, '2012-09-18 19:00:00', 1), (0, 'Tennis Court 1', 5, 25, 3232, 0, 0, '2012-09-19 11:00:00', 6), (1, 'Tennis Court 2', 5, 25, 3236, 1, 0, '2012-09-19 09:30:00', 3), (1, 'Tennis Court 2', 5, 25, 3238, 1, 0, '2012-09-19 13:00:00', 3), (4, 'Massage Room 1', 9.9, 80, 3256, 4, 0, '2012-09-19 10:00:00', 4), (4, 'Massage Room 1', 9.9, 80, 3258, 4, 0, '2012-09-19 13:30:00', 6), (4, 'Massage Room 1', 9.9, 80, 3260, 4, 0, '2012-09-19 18:00:00', 2), (5, 'Massage Room 2', 9.9, 80, 3264, 5, 0, '2012-09-19 13:30:00', 2), (5, 'Massage Room 2', 9.9, 80, 3265, 5, 0, '2012-09-19 15:30:00', 2), (5, 'Massage Room 2', 9.9, 80, 3266, 5, 0, '2012-09-19 19:30:00', 2), (6, 'Squash Court', 3.5, 17.5, 3267, 6, 0, '2012-09-19 08:00:00', 2), (6, 'Squash Court', 3.5, 17.5, 3270, 6, 0, '2012-09-19 12:30:00', 2), (6, 'Squash Court', 3.5, 17.5, 3272, 6, 0, '2012-09-19 15:00:00', 2), (0, 'Tennis Court 1', 5, 25, 3299, 0, 0, '2012-09-20 09:30:00', 6), (0, 'Tennis Court 1', 5, 25, 3300, 0, 0, '2012-09-20 13:00:00', 3), (1, 'Tennis Court 2', 5, 25, 3309, 1, 0, '2012-09-20 17:30:00', 3), (2, 'Badminton Court', 0, 15.5, 3312, 2, 0, '2012-09-20 11:00:00', 3), (4, 'Massage Room 1', 9.9, 80, 3320, 4, 0, '2012-09-20 08:00:00', 2), (4, 'Massage Room 1', 9.9, 80, 3322, 4, 0, '2012-09-20 10:30:00', 4), (4, 'Massage Room 1', 9.9, 80, 3324, 4, 0, '2012-09-20 15:00:00', 2), (4, 'Massage Room 1', 9.9, 80, 3325, 4, 0, '2012-09-20 16:30:00', 2), (5, 'Massage Room 2', 9.9, 80, 3328, 5, 0, '2012-09-20 11:00:00', 2), (5, 'Massage Room 2', 9.9, 80, 3329, 5, 0, '2012-09-20 13:30:00', 2), (5, 'Massage Room 2', 9.9, 80, 3330, 5, 0, '2012-09-20 16:30:00', 2), (5, 'Massage Room 2', 9.9, 80, 3331, 5, 0, '2012-09-20 18:30:00', 2), (6, 'Squash Court', 3.5, 17.5, 3333, 6, 0, '2012-09-20 09:30:00', 6), (6, 'Squash Court', 3.5, 17.5, 3334, 6, 0, '2012-09-20 14:00:00', 2), (7, 'Snooker Table', 0, 5, 3336, 7, 0, '2012-09-20 08:30:00', 2), (8, 'Pool Table', 0, 5, 3358, 8, 0, '2012-09-20 19:00:00', 2), (2, 'Badminton Court', 0, 15.5, 3375, 2, 0, '2012-09-21 14:00:00', 6), (4, 'Massage Room 1', 9.9, 80, 3387, 4, 0, '2012-09-21 10:30:00', 2), (4, 'Massage Room 1', 9.9, 80, 3389, 4, 0, '2012-09-21 13:00:00', 2), (4, 'Massage Room 1', 9.9, 80, 3391, 4, 0, '2012-09-21 15:30:00', 2), (5, 'Massage Room 2', 9.9, 80, 3397, 5, 0, '2012-09-21 17:30:00', 2), (6, 'Squash Court', 3.5, 17.5, 3398, 6, 0, '2012-09-21 09:30:00', 2), (6, 'Squash Court', 3.5, 17.5, 3400, 6, 0, '2012-09-21 11:30:00', 4), (6, 'Squash Court', 3.5, 17.5, 3401, 6, 0, '2012-09-21 14:00:00', 2), (0, 'Tennis Court 1', 5, 25, 3429, 0, 0, '2012-09-22 08:30:00', 3), (0, 'Tennis Court 1', 5, 25, 3431, 0, 0, '2012-09-22 13:00:00', 3), (1, 'Tennis Court 2', 5, 25, 3440, 1, 0, '2012-09-22 17:30:00', 3), (2, 'Badminton Court', 0, 15.5, 3442, 2, 0, '2012-09-22 09:30:00', 3), (4, 'Massage Room 1', 9.9, 80, 3452, 4, 0, '2012-09-22 08:00:00', 2), (4, 'Massage Room 1', 9.9, 80, 3455, 4, 0, '2012-09-22 11:00:00', 2), (4, 'Massage Room 1', 9.9, 80, 3457, 4, 0, '2012-09-22 13:00:00', 2), (4, 'Massage Room 1', 9.9, 80, 3459, 4, 0, '2012-09-22 15:00:00', 8), (5, 'Massage Room 2', 9.9, 80, 3461, 5, 0, '2012-09-22 12:30:00', 2), (6, 'Squash Court', 3.5, 17.5, 3463, 6, 0, '2012-09-22 10:30:00', 2), (6, 'Squash Court', 3.5, 17.5, 3466, 6, 0, '2012-09-22 13:30:00', 2), (6, 'Squash Court', 3.5, 17.5, 3468, 6, 0, '2012-09-22 15:30:00', 4), (1, 'Tennis Court 2', 5, 25, 3498, 1, 0, '2012-09-23 08:30:00', 3), (1, 'Tennis Court 2', 5, 25, 3504, 1, 0, '2012-09-23 18:00:00', 3), (4, 'Massage Room 1', 9.9, 80, 3523, 4, 0, '2012-09-23 11:30:00', 2), (4, 'Massage Room 1', 9.9, 80, 3527, 4, 0, '2012-09-23 17:00:00', 2), (5, 'Massage Room 2', 9.9, 80, 3530, 5, 0, '2012-09-23 15:00:00', 2), (6, 'Squash Court', 3.5, 17.5, 3531, 6, 0, '2012-09-23 08:00:00', 4), (6, 'Squash Court', 3.5, 17.5, 3532, 6, 0, '2012-09-23 10:30:00', 2), (6, 'Squash Court', 3.5, 17.5, 3533, 6, 0, '2012-09-23 12:00:00', 2), (6, 'Squash Court', 3.5, 17.5, 3534, 6, 0, '2012-09-23 13:30:00', 6), (6, 'Squash Court', 3.5, 17.5, 3537, 6, 0, '2012-09-23 19:00:00', 2), (7, 'Snooker Table', 0, 5, 3544, 7, 0, '2012-09-23 19:00:00', 2), (8, 'Pool Table', 0, 5, 3547, 8, 0, '2012-09-23 09:00:00', 1), (8, 'Pool Table', 0, 5, 3549, 8, 0, '2012-09-23 10:00:00', 1), (8, 'Pool Table', 0, 5, 3554, 8, 0, '2012-09-23 15:00:00', 1), (0, 'Tennis Court 1', 5, 25, 3563, 0, 0, '2012-09-24 08:00:00', 9), (0, 'Tennis Court 1', 5, 25, 3565, 0, 0, '2012-09-24 14:00:00', 3), (1, 'Tennis Court 2', 5, 25, 3572, 1, 0, '2012-09-24 16:30:00', 3), (2, 'Badminton Court', 0, 15.5, 3575, 2, 0, '2012-09-24 09:30:00', 3), (3, 'Table Tennis', 0, 5, 3581, 3, 0, '2012-09-24 08:00:00', 2), (3, 'Table Tennis', 0, 5, 3589, 3, 0, '2012-09-24 19:00:00', 2), (4, 'Massage Room 1', 9.9, 80, 3592, 4, 0, '2012-09-24 10:30:00', 2), (4, 'Massage Room 1', 9.9, 80, 3593, 4, 0, '2012-09-24 12:00:00', 2), (4, 'Massage Room 1', 9.9, 80, 3595, 4, 0, '2012-09-24 14:00:00', 2), (4, 'Massage Room 1', 9.9, 80, 3600, 4, 0, '2012-09-24 19:00:00', 2), (5, 'Massage Room 2', 9.9, 80, 3602, 5, 0, '2012-09-24 14:00:00', 2), (6, 'Squash Court', 3.5, 17.5, 3603, 6, 0, '2012-09-24 08:00:00', 2), (6, 'Squash Court', 3.5, 17.5, 3605, 6, 0, '2012-09-24 10:30:00', 2), (6, 'Squash Court', 3.5, 17.5, 3606, 6, 0, '2012-09-24 12:00:00', 4), (6, 'Squash Court', 3.5, 17.5, 3608, 6, 0, '2012-09-24 15:00:00', 4), (8, 'Pool Table', 0, 5, 3619, 8, 0, '2012-09-24 08:00:00', 1), (8, 'Pool Table', 0, 5, 3621, 8, 0, '2012-09-24 09:00:00', 1), (8, 'Pool Table', 0, 5, 3624, 8, 0, '2012-09-24 12:00:00', 1), (8, 'Pool Table', 0, 5, 3631, 8, 0, '2012-09-24 17:00:00', 1), (0, 'Tennis Court 1', 5, 25, 3638, 0, 0, '2012-09-25 15:00:00', 6), (1, 'Tennis Court 2', 5, 25, 3642, 1, 0, '2012-09-25 11:30:00', 3), (1, 'Tennis Court 2', 5, 25, 3646, 1, 0, '2012-09-25 18:30:00', 3), (2, 'Badminton Court', 0, 15.5, 3650, 2, 0, '2012-09-25 16:00:00', 3), (4, 'Massage Room 1', 9.9, 80, 3661, 4, 0, '2012-09-25 11:30:00', 4), (4, 'Massage Room 1', 9.9, 80, 3664, 4, 0, '2012-09-25 15:30:00', 2), (5, 'Massage Room 2', 9.9, 80, 3669, 5, 0, '2012-09-25 08:30:00', 2), (5, 'Massage Room 2', 9.9, 80, 3670, 5, 0, '2012-09-25 11:30:00', 2), (5, 'Massage Room 2', 9.9, 80, 3671, 5, 0, '2012-09-25 16:00:00', 2), (6, 'Squash Court', 3.5, 17.5, 3672, 6, 0, '2012-09-25 08:00:00', 4), (6, 'Squash Court', 3.5, 17.5, 3674, 6, 0, '2012-09-25 11:00:00', 2), (6, 'Squash Court', 3.5, 17.5, 3676, 6, 0, '2012-09-25 14:00:00', 2), (6, 'Squash Court', 3.5, 17.5, 3677, 6, 0, '2012-09-25 15:30:00', 4), (7, 'Snooker Table', 0, 5, 3680, 7, 0, '2012-09-25 13:30:00', 2), (0, 'Tennis Court 1', 5, 25, 3698, 0, 0, '2012-09-26 09:30:00', 3), (0, 'Tennis Court 1', 5, 25, 3701, 0, 0, '2012-09-26 15:00:00', 6), (1, 'Tennis Court 2', 5, 25, 3703, 1, 0, '2012-09-26 08:00:00', 3), (1, 'Tennis Court 2', 5, 25, 3704, 1, 0, '2012-09-26 10:30:00', 3), (2, 'Badminton Court', 0, 15.5, 3713, 2, 0, '2012-09-26 14:00:00', 3), (4, 'Massage Room 1', 9.9, 80, 3724, 4, 0, '2012-09-26 09:00:00', 2), (4, 'Massage Room 1', 9.9, 80, 3728, 4, 0, '2012-09-26 14:00:00', 2), (4, 'Massage Room 1', 9.9, 80, 3730, 4, 0, '2012-09-26 16:30:00', 2), (5, 'Massage Room 2', 9.9, 80, 3733, 5, 0, '2012-09-26 18:30:00', 2), (6, 'Squash Court', 3.5, 17.5, 3734, 6, 0, '2012-09-26 08:00:00', 2), (6, 'Squash Court', 3.5, 17.5, 3735, 6, 0, '2012-09-26 09:30:00', 2), (6, 'Squash Court', 3.5, 17.5, 3737, 6, 0, '2012-09-26 11:30:00', 2), (6, 'Squash Court', 3.5, 17.5, 3738, 6, 0, '2012-09-26 13:00:00', 8), (6, 'Squash Court', 3.5, 17.5, 3741, 6, 0, '2012-09-26 19:00:00', 2), (8, 'Pool Table', 0, 5, 3748, 8, 0, '2012-09-26 08:30:00', 1), (0, 'Tennis Court 1', 5, 25, 3767, 0, 0, '2012-09-27 17:30:00', 6), (1, 'Tennis Court 2', 5, 25, 3768, 1, 0, '2012-09-27 08:00:00', 9), (1, 'Tennis Court 2', 5, 25, 3770, 1, 0, '2012-09-27 14:30:00', 3), (3, 'Table Tennis', 0, 5, 3781, 3, 0, '2012-09-27 12:00:00', 2), (3, 'Table Tennis', 0, 5, 3785, 3, 0, '2012-09-27 18:30:00', 2), (4, 'Massage Room 1', 9.9, 80, 3786, 4, 0, '2012-09-27 08:00:00', 2), (4, 'Massage Room 1', 9.9, 80, 3790, 4, 0, '2012-09-27 12:00:00', 2), (4, 'Massage Room 1', 9.9, 80, 3794, 4, 0, '2012-09-27 16:00:00', 2), (5, 'Massage Room 2', 9.9, 80, 3798, 5, 0, '2012-09-27 10:30:00', 2), (6, 'Squash Court', 3.5, 17.5, 3800, 6, 0, '2012-09-27 08:00:00', 2), (6, 'Squash Court', 3.5, 17.5, 3802, 6, 0, '2012-09-27 10:30:00', 2), (6, 'Squash Court', 3.5, 17.5, 3803, 6, 0, '2012-09-27 12:00:00', 6), (6, 'Squash Court', 3.5, 17.5, 3805, 6, 0, '2012-09-27 19:00:00', 2), (8, 'Pool Table', 0, 5, 3822, 8, 0, '2012-09-27 15:30:00', 1), (0, 'Tennis Court 1', 5, 25, 3832, 0, 0, '2012-09-28 13:00:00', 3), (0, 'Tennis Court 1', 5, 25, 3833, 0, 0, '2012-09-28 15:00:00', 3), (0, 'Tennis Court 1', 5, 25, 3834, 0, 0, '2012-09-28 17:00:00', 3), (1, 'Tennis Court 2', 5, 25, 3836, 1, 0, '2012-09-28 09:30:00', 9), (1, 'Tennis Court 2', 5, 25, 3838, 1, 0, '2012-09-28 15:30:00', 3), (1, 'Tennis Court 2', 5, 25, 3839, 1, 0, '2012-09-28 17:30:00', 6), (2, 'Badminton Court', 0, 15.5, 3846, 2, 0, '2012-09-28 17:30:00', 3), (4, 'Massage Room 1', 9.9, 80, 3857, 4, 0, '2012-09-28 09:00:00', 4), (4, 'Massage Room 1', 9.9, 80, 3859, 4, 0, '2012-09-28 12:30:00', 4), (4, 'Massage Room 1', 9.9, 80, 3861, 4, 0, '2012-09-28 15:30:00', 2), (4, 'Massage Room 1', 9.9, 80, 3863, 4, 0, '2012-09-28 17:30:00', 2), (5, 'Massage Room 2', 9.9, 80, 3866, 5, 0, '2012-09-28 10:30:00', 2), (5, 'Massage Room 2', 9.9, 80, 3867, 5, 0, '2012-09-28 13:00:00', 2), (5, 'Massage Room 2', 9.9, 80, 3869, 5, 0, '2012-09-28 17:00:00', 4), (6, 'Squash Court', 3.5, 17.5, 3870, 6, 0, '2012-09-28 08:00:00', 6), (6, 'Squash Court', 3.5, 17.5, 3872, 6, 0, '2012-09-28 12:00:00', 2), (6, 'Squash Court', 3.5, 17.5, 3874, 6, 0, '2012-09-28 14:30:00', 2), (6, 'Squash Court', 3.5, 17.5, 3875, 6, 0, '2012-09-28 16:00:00', 6), (8, 'Pool Table', 0, 5, 3893, 8, 0, '2012-09-28 17:00:00', 1), (0, 'Tennis Court 1', 5, 25, 3899, 0, 0, '2012-09-29 08:00:00', 3), (1, 'Tennis Court 2', 5, 25, 3904, 1, 0, '2012-09-29 10:00:00', 3), (1, 'Tennis Court 2', 5, 25, 3908, 1, 0, '2012-09-29 16:00:00', 3), (4, 'Massage Room 1', 9.9, 80, 3926, 4, 0, '2012-09-29 09:30:00', 2), (4, 'Massage Room 1', 9.9, 80, 3930, 4, 0, '2012-09-29 13:30:00', 2), (4, 'Massage Room 1', 9.9, 80, 3932, 4, 0, '2012-09-29 15:30:00', 2), (5, 'Massage Room 2', 9.9, 80, 3937, 5, 0, '2012-09-29 12:30:00', 2), (6, 'Squash Court', 3.5, 17.5, 3939, 6, 0, '2012-09-29 09:00:00', 4), (6, 'Squash Court', 3.5, 17.5, 3941, 6, 0, '2012-09-29 12:00:00', 2), (6, 'Squash Court', 3.5, 17.5, 3943, 6, 0, '2012-09-29 14:00:00', 2), (6, 'Squash Court', 3.5, 17.5, 3945, 6, 0, '2012-09-29 18:00:00', 4), (7, 'Snooker Table', 0, 5, 3948, 7, 0, '2012-09-29 12:30:00', 2), (0, 'Tennis Court 1', 5, 25, 3975, 0, 0, '2012-09-30 11:00:00', 6), (0, 'Tennis Court 1', 5, 25, 3978, 0, 0, '2012-09-30 17:30:00', 3), (1, 'Tennis Court 2', 5, 25, 3981, 1, 0, '2012-09-30 10:00:00', 3), (3, 'Table Tennis', 0, 5, 3997, 3, 0, '2012-09-30 14:30:00', 2), (4, 'Massage Room 1', 9.9, 80, 4001, 4, 0, '2012-09-30 10:00:00', 2), (4, 'Massage Room 1', 9.9, 80, 4006, 4, 0, '2012-09-30 16:00:00', 2), (4, 'Massage Room 1', 9.9, 80, 4008, 4, 0, '2012-09-30 18:00:00', 2), (5, 'Massage Room 2', 9.9, 80, 4009, 5, 0, '2012-09-30 11:30:00', 2), (5, 'Massage Room 2', 9.9, 80, 4010, 5, 0, '2012-09-30 19:30:00', 2), (6, 'Squash Court', 3.5, 17.5, 4011, 6, 0, '2012-09-30 08:00:00', 2), (6, 'Squash Court', 3.5, 17.5, 4013, 6, 0, '2012-09-30 11:00:00', 2), (6, 'Squash Court', 3.5, 17.5, 4014, 6, 0, '2012-09-30 12:30:00', 2), (6, 'Squash Court', 3.5, 17.5, 4016, 6, 0, '2012-09-30 15:30:00', 2), (6, 'Squash Court', 3.5, 17.5, 4018, 6, 0, '2012-09-30 17:30:00', 2), (6, 'Squash Court', 3.5, 17.5, 4019, 6, 0, '2012-09-30 19:00:00', 2)]\n"
     ]
    }
   ],
   "source": [
    "cursor.execute('''\n",
    "SELECT \n",
    "\tf.facid,\n",
    "\tf.name,\n",
    "\tf.membercost,\n",
    "\tf.guestcost,\n",
    "\tb.bookid,\n",
    "\tb.facid,\n",
    "\tb.memid,\n",
    "\tb.starttime,\n",
    "\tb.slots\n",
    "FROM Facilities AS f\n",
    "LEFT JOIN `Bookings` AS b\n",
    "ON f.facid = b.facid\n",
    "WHERE `memid` = 0\n",
    "''')\n",
    "results = cursor.fetchall()\n",
    "print(results)"
   ]
  },
  {
   "cell_type": "code",
   "execution_count": null,
   "id": "e752c3dd-a1e8-4ad4-8c10-e8723740e890",
   "metadata": {},
   "outputs": [],
   "source": [
    "SELECT \n",
    "\tf.facid,\n",
    "\tf.name,\n",
    "\tf.membercost,\n",
    "\tf.guestcost,\n",
    "\tb.bookid,\n",
    "\tb.facid,\n",
    "\tb.memid,\n",
    "\tb.starttime,\n",
    "\tb.slots,\n",
    "\tCONCAT(m.firstname, ' ', m.surname) AS full_name\n",
    "FROM Facilities AS f\n",
    "LEFT JOIN `Bookings` AS b\n",
    "LEFT JOIN Members AS m\n",
    "ON f.facid = b.facid\n",
    "WHERE `memid` = 0"
   ]
  },
  {
   "cell_type": "code",
   "execution_count": null,
   "id": "f6dbb1db-1a35-47db-890f-12b61e831c6c",
   "metadata": {},
   "outputs": [],
   "source": [
    "/* Q9: This time, produce the same result as in Q8, but using a subquery. */"
   ]
  },
  {
   "cell_type": "markdown",
   "id": "0788f74a-c682-4656-8659-e67594e1c00f",
   "metadata": {},
   "source": [
    "\n",
    "\n",
    "\n",
    "/* PART 2: SQLite\n",
    "\n",
    "Export the country club data from PHPMyAdmin, and connect to a local SQLite instance from Jupyter notebook \n",
    "for the following questions.  \n",
    "\n",
    "QUESTIONS:\n",
    "/* Q10: Produce a list of facilities with a total revenue less than 1000.\n",
    "The output of facility name and total revenue, sorted by revenue. Remember\n",
    "that there's a different cost for guests and members! */\n",
    "\n",
    "/* Q11: Produce a report of members and who recommended them in alphabetic surname,firstname order */\n",
    "\n",
    "\n",
    "/* Q12: Find the facilities with their usage by member, but not guests */\n",
    "\n",
    "\n",
    "/* Q13: Find the facilities usage by month, but not guests */\n",
    "\n"
   ]
  }
 ],
 "metadata": {
  "kernelspec": {
   "display_name": "Python 3 (ipykernel)",
   "language": "python",
   "name": "python3"
  },
  "language_info": {
   "codemirror_mode": {
    "name": "ipython",
    "version": 3
   },
   "file_extension": ".py",
   "mimetype": "text/x-python",
   "name": "python",
   "nbconvert_exporter": "python",
   "pygments_lexer": "ipython3",
   "version": "3.12.7"
  }
 },
 "nbformat": 4,
 "nbformat_minor": 5
}
