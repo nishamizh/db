{
 "cells": [
  {
   "cell_type": "code",
   "execution_count": 1,
   "id": "d99cbf1f-621e-4a4d-834b-a92b17b234bb",
   "metadata": {},
   "outputs": [],
   "source": [
    "import sqlite3"
   ]
  },
  {
   "cell_type": "code",
   "execution_count": 2,
   "id": "708f65be-39cd-4cc7-8427-4e8cd8802ed7",
   "metadata": {},
   "outputs": [],
   "source": [
    "conn = sqlite3.connect('sqlite_db_pythonsqlite.db')\n",
    "cursor = conn.cursor()"
   ]
  },
  {
   "cell_type": "code",
   "execution_count": 3,
   "id": "30b4c8e7-049b-42da-9c76-e5c5c8a96060",
   "metadata": {},
   "outputs": [
    {
     "name": "stdout",
     "output_type": "stream",
     "text": [
      "[(0, 'Tennis Court 1', 5, 25, 10000, 200), (1, 'Tennis Court 2', 5, 25, 8000, 200), (2, 'Badminton Court', 0, 15.5, 4000, 50), (3, 'Table Tennis', 0, 5, 320, 10), (4, 'Massage Room 1', 9.9, 80, 4000, 3000), (5, 'Massage Room 2', 9.9, 80, 4000, 3000), (6, 'Squash Court', 3.5, 17.5, 5000, 80), (7, 'Snooker Table', 0, 5, 450, 15), (8, 'Pool Table', 0, 5, 400, 15)]\n"
     ]
    }
   ],
   "source": [
    "cursor.execute('SELECT * FROM Facilities')\n",
    "results = cursor.fetchall()\n",
    "print(results)"
   ]
  },
  {
   "cell_type": "markdown",
   "id": "6fe31ce3-dae6-4791-b796-d2ddd7f0af25",
   "metadata": {},
   "source": [
    "QUESTIONS "
   ]
  },
  {
   "cell_type": "code",
   "execution_count": 5,
   "id": "cc610b98-197d-4e81-9219-9348b44497a0",
   "metadata": {},
   "outputs": [
    {
     "name": "stdout",
     "output_type": "stream",
     "text": [
      "[('Tennis Court 1', 5), ('Tennis Court 2', 5), ('Massage Room 1', 9.9), ('Massage Room 2', 9.9), ('Squash Court', 3.5)]\n"
     ]
    }
   ],
   "source": [
    "# Q1: Some of the facilities charge a fee to members, but some do not.\n",
    "#Write a SQL query to produce a list of the names of the facilities that do. \n",
    "\n",
    "cursor.execute('SELECT DISTINCT(name),membercost FROM Facilities WHERE membercost NOT IN (0)')\n",
    "results = cursor.fetchall()\n",
    "print(results)\n"
   ]
  },
  {
   "cell_type": "code",
   "execution_count": 6,
   "id": "88ac2fe2-1f57-4d5c-968e-00f399bc167f",
   "metadata": {},
   "outputs": [
    {
     "name": "stdout",
     "output_type": "stream",
     "text": [
      "[('Badminton Court', 0), ('Table Tennis', 0), ('Snooker Table', 0), ('Pool Table', 0)]\n"
     ]
    }
   ],
   "source": [
    "# Q2: How many facilities do not charge a fee to members? */\n",
    "\n",
    "cursor.execute('SELECT DISTINCT(name),membercost FROM Facilities WHERE membercost IN (0)')\n",
    "results = cursor.fetchall()\n",
    "print(results)"
   ]
  },
  {
   "cell_type": "code",
   "execution_count": 7,
   "id": "f53c8ef3-24bd-4c39-9c47-d5bccfa220db",
   "metadata": {},
   "outputs": [
    {
     "name": "stdout",
     "output_type": "stream",
     "text": [
      "[(0, 'Tennis Court 1', 5, 200), (1, 'Tennis Court 2', 5, 200), (4, 'Massage Room 1', 9.9, 3000), (5, 'Massage Room 2', 9.9, 3000), (6, 'Squash Court', 3.5, 80)]\n"
     ]
    }
   ],
   "source": [
    "# * Q3: Write an SQL query to show a list of facilities that charge a fee to members,\n",
    "# where the fee is less than 20% of the facility's monthly maintenance cost.\n",
    "# Return the facid, facility name, member cost, and monthly maintenance of the\n",
    "# facilities in question.\n",
    "\n",
    "cursor.execute('SELECT facid, name, membercost, monthlymaintenance FROM `Facilities` WHERE membercost < 0.2 *(monthlymaintenance) AND membercost NOT IN (0)')\n",
    "results = cursor.fetchall()\n",
    "print(results)"
   ]
  },
  {
   "cell_type": "code",
   "execution_count": 8,
   "id": "72e82154-a902-4862-bfe4-9cb555aeb78d",
   "metadata": {},
   "outputs": [
    {
     "name": "stdout",
     "output_type": "stream",
     "text": [
      "[(1, 'Tennis Court 2', 5, 25, 8000, 200), (5, 'Massage Room 2', 9.9, 80, 4000, 3000)]\n"
     ]
    }
   ],
   "source": [
    "# Q4: Write an SQL query to retrieve the details of facilities with ID 1 and 5.\n",
    "# Try writing the query without using the OR operator.\n",
    "\n",
    "cursor.execute('SELECT * FROM `Facilities` WHERE facid IN (1,5)')\n",
    "results = cursor.fetchall()\n",
    "print(results)"
   ]
  },
  {
   "cell_type": "code",
   "execution_count": 9,
   "id": "76e8a749-2824-4ef6-9e5a-3a6d29c6ce50",
   "metadata": {},
   "outputs": [
    {
     "name": "stdout",
     "output_type": "stream",
     "text": [
      "[('Tennis Court 1', 200, 'Expensive'), ('Tennis Court 2', 200, 'Expensive'), ('Badminton Court', 50, 'Cheap'), ('Table Tennis', 10, 'Cheap'), ('Massage Room 1', 3000, 'Expensive'), ('Massage Room 2', 3000, 'Expensive'), ('Squash Court', 80, 'Cheap'), ('Snooker Table', 15, 'Cheap'), ('Pool Table', 15, 'Cheap')]\n"
     ]
    }
   ],
   "source": [
    "# Q5: Produce a list of facilities, with each labelled as\n",
    "# 'cheap' or 'expensive', depending on if their monthly maintenance cost is\n",
    "# more than $100. Return the name and monthly maintenance of the facilities\n",
    "# in question.\n",
    "\n",
    "cursor.execute('''\n",
    "SELECT name, monthlymaintenance,\n",
    "    CASE WHEN monthlymaintenance > 100 THEN 'Expensive'\n",
    "    ELSE 'Cheap' END AS labelled\n",
    "FROM Facilities\n",
    "''')\n",
    "results = cursor.fetchall()\n",
    "print(results)              "
   ]
  },
  {
   "cell_type": "code",
   "execution_count": 10,
   "id": "8e4f6913-1717-4a2a-aa85-73361362d9a6",
   "metadata": {},
   "outputs": [
    {
     "name": "stdout",
     "output_type": "stream",
     "text": [
      "[('Darren', 'Smith', '2012-09-26 18:08:45')]\n"
     ]
    }
   ],
   "source": [
    "#Q6: You'd like to get the first and last name of the last member(s)\n",
    "#who signed up. Try not to use the LIMIT clause for your solution.\n",
    "\n",
    "cursor.execute('SELECT firstname , surname, joindate AS joinlast FROM `Members` WHERE joindate =(SELECT MAX(`joindate`) FROM `Members`)')\n",
    "results = cursor.fetchall()\n",
    "print(results)"
   ]
  },
  {
   "cell_type": "code",
   "execution_count": 11,
   "id": "9612c9ba-27f9-420e-af01-4010832beac9",
   "metadata": {},
   "outputs": [],
   "source": [
    "# Q7: Produce a list of all members who have used a tennis court.\n",
    "# Include in your output the name of the court, and the name of the member\n",
    "# formatted as a single column. Ensure no duplicate data, and order by\n",
    "# the member name.\n"
   ]
  },
  {
   "cell_type": "code",
   "execution_count": 12,
   "id": "b45eb7fd-0c9c-4aba-88e2-076a962e5d13",
   "metadata": {},
   "outputs": [
    {
     "name": "stdout",
     "output_type": "stream",
     "text": [
      "[('Anne Baker', 'Tennis Court 1'), ('Anne Baker', 'Tennis Court 2'), ('Burton Tracy', 'Tennis Court 2'), ('Burton Tracy', 'Tennis Court 1'), ('Charles Owen', 'Tennis Court 1'), ('Charles Owen', 'Tennis Court 2'), ('Darren Smith', 'Tennis Court 2'), ('David Farrell', 'Tennis Court 1'), ('David Farrell', 'Tennis Court 2'), ('David Jones', 'Tennis Court 2'), ('David Jones', 'Tennis Court 1'), ('David Pinker', 'Tennis Court 1'), ('Douglas Jones', 'Tennis Court 1'), ('Erica Crumpet', 'Tennis Court 1'), ('Florence Bader', 'Tennis Court 2'), ('Florence Bader', 'Tennis Court 1'), ('GUEST GUEST', 'Tennis Court 2'), ('GUEST GUEST', 'Tennis Court 1'), ('Gerald Butters', 'Tennis Court 1'), ('Gerald Butters', 'Tennis Court 2'), ('Henrietta Rumney', 'Tennis Court 2'), ('Jack Smith', 'Tennis Court 1'), ('Jack Smith', 'Tennis Court 2'), ('Janice Joplette', 'Tennis Court 1'), ('Janice Joplette', 'Tennis Court 2'), ('Jemima Farrell', 'Tennis Court 2'), ('Jemima Farrell', 'Tennis Court 1'), ('Joan Coplin', 'Tennis Court 1'), ('John Hunt', 'Tennis Court 1'), ('John Hunt', 'Tennis Court 2'), ('Matthew Genting', 'Tennis Court 1'), ('Millicent Purview', 'Tennis Court 2'), ('Nancy Dare', 'Tennis Court 2'), ('Nancy Dare', 'Tennis Court 1'), ('Ponder Stibbons', 'Tennis Court 2'), ('Ponder Stibbons', 'Tennis Court 1'), ('Ramnaresh Sarwin', 'Tennis Court 2'), ('Ramnaresh Sarwin', 'Tennis Court 1'), ('Tim Boothe', 'Tennis Court 2'), ('Tim Boothe', 'Tennis Court 1'), ('Tim Rownam', 'Tennis Court 2'), ('Tim Rownam', 'Tennis Court 1'), ('Timothy Baker', 'Tennis Court 2'), ('Timothy Baker', 'Tennis Court 1'), ('Tracy Smith', 'Tennis Court 1'), ('Tracy Smith', 'Tennis Court 2')]\n"
     ]
    }
   ],
   "source": [
    "cursor.execute('''\n",
    "SELECT DISTINCT CONCAT(firstname,' ',surname) AS full_name, f.name\n",
    "FROM Members m\n",
    "JOIN Bookings b ON b.memid = m.memid\n",
    "JOIN Facilities f ON f.facid = b.facid\n",
    "WHERE m.memid IN\n",
    "(SELECT DISTINCT memid FROM `Bookings` WHERE f.facid IN (SELECT facid FROM `Facilities` WHERE `name` LIKE '%Tennis Court%'))\n",
    "ORDER BY full_name\n",
    "''')\n",
    "results = cursor.fetchall()\n",
    "print(results)"
   ]
  },
  {
   "cell_type": "code",
   "execution_count": 14,
   "id": "24a82adb-a903-43e1-8462-62975bbc87c7",
   "metadata": {},
   "outputs": [
    {
     "name": "stdout",
     "output_type": "stream",
     "text": [
      "[('Massage Room 1', 'GUEST GUEST', 9.9, 80), ('Massage Room 1', 'GUEST GUEST', 9.9, 80), ('Massage Room 1', 'GUEST GUEST', 9.9, 80), ('Massage Room 1', 'Burton Tracy', 9.9, 80), ('Massage Room 1', 'Ponder Stibbons', 9.9, 80), ('Massage Room 1', 'Jemima Farrell', 9.9, 80), ('Massage Room 1', 'Jemima Farrell', 9.9, 80), ('Massage Room 1', 'Jack Smith', 9.9, 80), ('Massage Room 1', 'Matthew Genting', 9.9, 80), ('Massage Room 2', 'GUEST GUEST', 9.9, 80), ('Massage Room 2', 'Florence Bader', 9.9, 80)]\n"
     ]
    }
   ],
   "source": [
    "#* Q8: Produce a list of bookings on the day of 2012-09-14 which\n",
    "# will cost the member (or guest) more than $30. Remember that guests have\n",
    "# different costs to members (the listed costs are per half-hour 'slot'), and\n",
    "# the guest user's ID is always 0. Include in your output the name of the\n",
    "# facility, the name of the member formatted as a single column, and the cost.\n",
    "# Order by descending cost, and do not use any subqueries.\n",
    "\n",
    "# Tennis Court, DArren Smith, 30.0 \n",
    "#WITH daterange AS\n",
    "#(SELECT * FROM `Bookings` WHERE `starttime`> '2012-09-14' AND `starttime`<= '2012-09-15')\n",
    "\n",
    "cursor.execute('''\n",
    "\n",
    "results = cursor.fetchall()\n",
    "print(results)"
   ]
  },
  {
   "cell_type": "code",
   "execution_count": 15,
   "id": "bdec0c43-26c4-4065-a9d4-2d6f8c9818f9",
   "metadata": {},
   "outputs": [
    {
     "name": "stdout",
     "output_type": "stream",
     "text": [
      "[('Massage Room 1', 'GUEST GUEST', 80), ('Massage Room 1', 'GUEST GUEST', 80), ('Massage Room 1', 'GUEST GUEST', 80), ('Massage Room 1', 'Burton Tracy', 80), ('Massage Room 1', 'Ponder Stibbons', 80), ('Massage Room 1', 'Jemima Farrell', 80), ('Massage Room 1', 'Jemima Farrell', 80), ('Massage Room 1', 'Jack Smith', 80), ('Massage Room 1', 'Matthew Genting', 80), ('Massage Room 2', 'GUEST GUEST', 80), ('Massage Room 2', 'Florence Bader', 80)]\n"
     ]
    }
   ],
   "source": [
    "# Q9: This time, produce the same result as in Q8, but using a subquery. */\n",
    "cursor.execute('''\n",
    "WITH daterange AS\n",
    "(SELECT bookid, facid, memid, starttime FROM `Bookings` WHERE `starttime`> '2012-09-14' AND `starttime`<= '2012-09-15'),\n",
    "mem_name AS\n",
    "(SELECT CONCAT(firstname, ' ', surname) AS fullname, memid FROM Members) \n",
    "\n",
    "SELECT f.name,\n",
    "    n.fullname,\n",
    "    CASE WHEN f.guestcost > 30 THEN f.guestcost\n",
    "        WHEN f.membercost > 30 THEN f.membercost\n",
    "        ELSE 'member' END AS who\n",
    "FROM Facilities AS f\n",
    "LEFT JOIN daterange AS d\n",
    "ON d.facid = f.facid\n",
    "LEFT JOIN mem_name n ON n.memid = d.memid\n",
    "WHERE f.membercost > 30 OR f.guestcost > 30\n",
    "''')\n",
    "results = cursor.fetchall()\n",
    "print(results)"
   ]
  },
  {
   "cell_type": "markdown",
   "id": "199757c8-75a2-4ce1-b362-b795d09fa45b",
   "metadata": {},
   "source": [
    "PART 2: SQLite\n",
    "\n",
    "Export the country club data from PHPMyAdmin, and connect to a local SQLite instance from Jupyter notebook \n",
    "for the following questions.  "
   ]
  },
  {
   "cell_type": "code",
   "execution_count": 25,
   "id": "49d2ddda-78a1-4721-80cc-8fc221eab20a",
   "metadata": {},
   "outputs": [],
   "source": [
    "#QUESTIONS:\n",
    "# Q10: Produce a list of facilities with a total revenue less than 1000.\n",
    "#The output of facility name and total revenue, sorted by revenue. Remember\n",
    "#that there's a different cost for guests and members! */"
   ]
  },
  {
   "cell_type": "code",
   "execution_count": 28,
   "id": "b2fba54d-92af-48b0-a308-f31265c5d581",
   "metadata": {},
   "outputs": [
    {
     "name": "stdout",
     "output_type": "stream",
     "text": [
      "[('Pool Table', 5), ('Snooker Table', 5), ('Table Tennis', 5), ('Badminton Court', 15.5), ('Squash Court', 21.0), ('Tennis Court 1', 30), ('Tennis Court 2', 30), ('Massage Room 1', 89.9), ('Massage Room 2', 89.9)]\n"
     ]
    }
   ],
   "source": [
    "cursor.execute('''\n",
    "SELECT name,  SUM(guestcost)+SUM(membercost) AS Total_Cost\n",
    "FROM Facilities\n",
    "GROUP BY name\n",
    "HAVING  Total_Cost < 1000\n",
    "ORDER BY Total_Cost\n",
    "''')\n",
    "results = cursor.fetchall()\n",
    "print(results)"
   ]
  },
  {
   "cell_type": "markdown",
   "id": "81827782-ecb6-46b2-bda2-4f05bed94c1f",
   "metadata": {},
   "source": [
    "#/* Q11: Produce a report of members and who recommended them in alphabetic surname,firstname order */"
   ]
  },
  {
   "cell_type": "code",
   "execution_count": 34,
   "id": "956d4654-9ac9-4d4f-964c-fd39666ccc03",
   "metadata": {},
   "outputs": [
    {
     "name": "stdout",
     "output_type": "stream",
     "text": [
      "[('Joplette', 'Janice', '1'), ('Butters', 'Gerald', '1'), ('Dare', 'Nancy', '4'), ('Boothe', 'Tim', '3'), ('Stibbons', 'Ponder', '6'), ('Owen', 'Charles', '1'), ('Jones', 'David', '4'), ('Baker', 'Anne', '9'), ('Smith', 'Jack', '1'), ('Bader', 'Florence', '9'), ('Baker', 'Timothy', '13'), ('Pinker', 'David', '13'), ('Genting', 'Matthew', '5'), ('Mackenzie', 'Anna', '1'), ('Coplin', 'Joan', '16'), ('Sarwin', 'Ramnaresh', '15'), ('Jones', 'Douglas', '11'), ('Rumney', 'Henrietta', '20'), ('Worthington-Smyth', 'Henry', '2'), ('Purview', 'Millicent', '2'), ('Hunt', 'John', '30'), ('Crumpet', 'Erica', '2')]\n"
     ]
    }
   ],
   "source": [
    "cursor.execute('''\n",
    "SELECT surname, firstname ,recommendedby\n",
    "FROM Members\n",
    "WHERE recommendedby != ''\n",
    "''')\n",
    "results = cursor.fetchall()\n",
    "print(results)"
   ]
  },
  {
   "cell_type": "code",
   "execution_count": null,
   "id": "e3478131-2473-4087-8571-ee7e6464d7a6",
   "metadata": {},
   "outputs": [],
   "source": [
    "#/* Q12: Find the facilities with their usage by member, but not guests */"
   ]
  },
  {
   "cell_type": "code",
   "execution_count": 48,
   "id": "f3a9f872-cd3c-43d2-bd14-6349261aa0a1",
   "metadata": {},
   "outputs": [
    {
     "name": "stdout",
     "output_type": "stream",
     "text": [
      "[('Tennis Court 1', 2), ('Tennis Court 2', 3), ('Badminton Court', 1), ('Table Tennis', 1), ('Massage Room 1', 1), ('Massage Room 2', 4), ('Squash Court', 1), ('Snooker Table', 1), ('Pool Table', 1)]\n"
     ]
    }
   ],
   "source": [
    "cursor.execute('''\n",
    "SELECT f.name, memid\n",
    "FROM Bookings b\n",
    "LEFT JOIN Facilities f ON b.facid = f.facid\n",
    "WHERE memid != 0\n",
    "GROUP BY b.facid\n",
    "''')\n",
    "result = cursor.fetchall()\n",
    "print(result)"
   ]
  },
  {
   "cell_type": "code",
   "execution_count": null,
   "id": "49ed2753-d143-4666-9799-1056f19b1be8",
   "metadata": {},
   "outputs": [],
   "source": [
    "#/* Q13: Find the facilities usage by month, but not guests */"
   ]
  },
  {
   "cell_type": "code",
   "execution_count": 59,
   "id": "c1892692-94c5-4acf-b8fb-f71c662f0609",
   "metadata": {},
   "outputs": [
    {
     "name": "stdout",
     "output_type": "stream",
     "text": [
      "[(51, 'Badminton Court', '2012-07'), (77, 'Massage Room 1', '2012-07'), (4, 'Massage Room 2', '2012-07'), (103, 'Pool Table', '2012-07'), (68, 'Snooker Table', '2012-07'), (23, 'Squash Court', '2012-07'), (48, 'Table Tennis', '2012-07'), (65, 'Tennis Court 1', '2012-07'), (41, 'Tennis Court 2', '2012-07'), (132, 'Badminton Court', '2012-08'), (153, 'Massage Room 1', '2012-08'), (9, 'Massage Room 2', '2012-08'), (272, 'Pool Table', '2012-08'), (154, 'Snooker Table', '2012-08'), (85, 'Squash Court', '2012-08'), (143, 'Table Tennis', '2012-08'), (111, 'Tennis Court 1', '2012-08'), (109, 'Tennis Court 2', '2012-08'), (161, 'Badminton Court', '2012-09'), (191, 'Massage Room 1', '2012-09'), (14, 'Massage Room 2', '2012-09'), (408, 'Pool Table', '2012-09'), (199, 'Snooker Table', '2012-09'), (87, 'Squash Court', '2012-09'), (194, 'Table Tennis', '2012-09'), (132, 'Tennis Court 1', '2012-09'), (126, 'Tennis Court 2', '2012-09')]\n"
     ]
    }
   ],
   "source": [
    "cursor.execute('''\n",
    "SELECT COUNT(b.memid),f.name,STRFTIME('%Y-%m',starttime) AS year_month\n",
    "FROM Bookings b\n",
    "LEFT JOIN Facilities f ON b.facid = f.facid\n",
    "WHERE memid!=0\n",
    "GROUP BY year_month, f.name\n",
    "ORDER BY year_month\n",
    "''')\n",
    "result = cursor.fetchall()\n",
    "print(result)"
   ]
  }
 ],
 "metadata": {
  "kernelspec": {
   "display_name": "Python 3 (ipykernel)",
   "language": "python",
   "name": "python3"
  },
  "language_info": {
   "codemirror_mode": {
    "name": "ipython",
    "version": 3
   },
   "file_extension": ".py",
   "mimetype": "text/x-python",
   "name": "python",
   "nbconvert_exporter": "python",
   "pygments_lexer": "ipython3",
   "version": "3.12.7"
  }
 },
 "nbformat": 4,
 "nbformat_minor": 5
}
