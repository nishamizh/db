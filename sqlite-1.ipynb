{
 "cells": [
  {
   "cell_type": "code",
   "execution_count": 1,
   "id": "d99cbf1f-621e-4a4d-834b-a92b17b234bb",
   "metadata": {},
   "outputs": [],
   "source": [
    "import sqlite3"
   ]
  },
  {
   "cell_type": "code",
   "execution_count": 2,
   "id": "708f65be-39cd-4cc7-8427-4e8cd8802ed7",
   "metadata": {},
   "outputs": [],
   "source": [
    "conn = sqlite3.connect('sqlite_db_pythonsqlite.db')\n",
    "cursor = conn.cursor()"
   ]
  },
  {
   "cell_type": "code",
   "execution_count": 3,
   "id": "30b4c8e7-049b-42da-9c76-e5c5c8a96060",
   "metadata": {},
   "outputs": [
    {
     "name": "stdout",
     "output_type": "stream",
     "text": [
      "[(0, 'Tennis Court 1', 5, 25, 10000, 200), (1, 'Tennis Court 2', 5, 25, 8000, 200), (2, 'Badminton Court', 0, 15.5, 4000, 50), (3, 'Table Tennis', 0, 5, 320, 10), (4, 'Massage Room 1', 9.9, 80, 4000, 3000), (5, 'Massage Room 2', 9.9, 80, 4000, 3000), (6, 'Squash Court', 3.5, 17.5, 5000, 80), (7, 'Snooker Table', 0, 5, 450, 15), (8, 'Pool Table', 0, 5, 400, 15)]\n"
     ]
    }
   ],
   "source": [
    "cursor.execute('SELECT * FROM Facilities')\n",
    "results = cursor.fetchall()\n",
    "print(results)"
   ]
  },
  {
   "cell_type": "code",
   "execution_count": null,
   "id": "51c21ce7-fc55-4821-8a33-b37a30bfb5a5",
   "metadata": {},
   "outputs": [],
   "source": [
    "QUESTIONS "
   ]
  },
  {
   "cell_type": "code",
   "execution_count": 9,
   "id": "cc610b98-197d-4e81-9219-9348b44497a0",
   "metadata": {},
   "outputs": [
    {
     "name": "stdout",
     "output_type": "stream",
     "text": [
      "[('Tennis Court 1', 5), ('Tennis Court 2', 5), ('Massage Room 1', 9.9), ('Massage Room 2', 9.9), ('Squash Court', 3.5)]\n"
     ]
    }
   ],
   "source": [
    "# Q1: Some of the facilities charge a fee to members, but some do not.\n",
    "#Write a SQL query to produce a list of the names of the facilities that do. \n",
    "\n",
    "cursor.execute('SELECT DISTINCT(name),membercost FROM Facilities WHERE membercost NOT IN (0)')\n",
    "results = cursor.fetchall()\n",
    "print(results)\n"
   ]
  },
  {
   "cell_type": "code",
   "execution_count": 10,
   "id": "88ac2fe2-1f57-4d5c-968e-00f399bc167f",
   "metadata": {},
   "outputs": [
    {
     "name": "stdout",
     "output_type": "stream",
     "text": [
      "[('Badminton Court', 0), ('Table Tennis', 0), ('Snooker Table', 0), ('Pool Table', 0)]\n"
     ]
    }
   ],
   "source": [
    "# Q2: How many facilities do not charge a fee to members? */\n",
    "\n",
    "cursor.execute('SELECT DISTINCT(name),membercost FROM Facilities WHERE membercost IN (0)')\n",
    "results = cursor.fetchall()\n",
    "print(results)"
   ]
  },
  {
   "cell_type": "code",
   "execution_count": 14,
   "id": "f53c8ef3-24bd-4c39-9c47-d5bccfa220db",
   "metadata": {},
   "outputs": [
    {
     "name": "stdout",
     "output_type": "stream",
     "text": [
      "[(0, 'Tennis Court 1', 5, 200), (1, 'Tennis Court 2', 5, 200), (4, 'Massage Room 1', 9.9, 3000), (5, 'Massage Room 2', 9.9, 3000), (6, 'Squash Court', 3.5, 80)]\n"
     ]
    }
   ],
   "source": [
    "# * Q3: Write an SQL query to show a list of facilities that charge a fee to members,\n",
    "# where the fee is less than 20% of the facility's monthly maintenance cost.\n",
    "# Return the facid, facility name, member cost, and monthly maintenance of the\n",
    "# facilities in question.\n",
    "\n",
    "cursor.execute('SELECT facid, name, membercost, monthlymaintenance FROM `Facilities` WHERE membercost < 0.2 *(monthlymaintenance) AND membercost NOT IN (0)')\n",
    "results = cursor.fetchall()\n",
    "print(results)"
   ]
  },
  {
   "cell_type": "code",
   "execution_count": 16,
   "id": "72e82154-a902-4862-bfe4-9cb555aeb78d",
   "metadata": {},
   "outputs": [
    {
     "name": "stdout",
     "output_type": "stream",
     "text": [
      "[(1, 'Tennis Court 2', 5, 25, 8000, 200), (5, 'Massage Room 2', 9.9, 80, 4000, 3000)]\n"
     ]
    }
   ],
   "source": [
    "# Q4: Write an SQL query to retrieve the details of facilities with ID 1 and 5.\n",
    "# Try writing the query without using the OR operator.\n",
    "\n",
    "cursor.execute('SELECT * FROM `Facilities` WHERE facid IN (1,5)')\n",
    "results = cursor.fetchall()\n",
    "print(results)"
   ]
  },
  {
   "cell_type": "code",
   "execution_count": 29,
   "id": "76e8a749-2824-4ef6-9e5a-3a6d29c6ce50",
   "metadata": {},
   "outputs": [
    {
     "name": "stdout",
     "output_type": "stream",
     "text": [
      "[('Tennis Court 1', 200, 'Expensive'), ('Tennis Court 2', 200, 'Expensive'), ('Badminton Court', 50, 'Cheap'), ('Table Tennis', 10, 'Cheap'), ('Massage Room 1', 3000, 'Expensive'), ('Massage Room 2', 3000, 'Expensive'), ('Squash Court', 80, 'Cheap'), ('Snooker Table', 15, 'Cheap'), ('Pool Table', 15, 'Cheap')]\n"
     ]
    }
   ],
   "source": [
    "# Q5: Produce a list of facilities, with each labelled as\n",
    "# 'cheap' or 'expensive', depending on if their monthly maintenance cost is\n",
    "# more than $100. Return the name and monthly maintenance of the facilities\n",
    "# in question.\n",
    "\n",
    "cursor.execute('''\n",
    "SELECT name, monthlymaintenance,\n",
    "    CASE WHEN monthlymaintenance > 100 THEN 'Expensive'\n",
    "    ELSE 'Cheap' END AS labelled\n",
    "FROM Facilities\n",
    "''')\n",
    "results = cursor.fetchall()\n",
    "print(results)              "
   ]
  },
  {
   "cell_type": "code",
   "execution_count": 32,
   "id": "8e4f6913-1717-4a2a-aa85-73361362d9a6",
   "metadata": {},
   "outputs": [
    {
     "name": "stdout",
     "output_type": "stream",
     "text": [
      "[('Darren', 'Smith', '2012-09-26 18:08:45')]\n"
     ]
    }
   ],
   "source": [
    "#Q6: You'd like to get the first and last name of the last member(s)\n",
    "#who signed up. Try not to use the LIMIT clause for your solution.\n",
    "\n",
    "cursor.execute('SELECT firstname , surname, joindate AS joinlast FROM `Members` WHERE joindate =(SELECT MAX(`joindate`) FROM `Members`)')\n",
    "results = cursor.fetchall()\n",
    "print(results)"
   ]
  },
  {
   "cell_type": "code",
   "execution_count": 69,
   "id": "9612c9ba-27f9-420e-af01-4010832beac9",
   "metadata": {},
   "outputs": [
    {
     "name": "stdout",
     "output_type": "stream",
     "text": [
      "[('GUEST GUEST',), ('Darren Smith',), ('Tracy Smith',), ('Tim Rownam',), ('Janice Joplette',), ('Gerald Butters',), ('Burton Tracy',), ('Nancy Dare',), ('Tim Boothe',), ('Ponder Stibbons',), ('Charles Owen',), ('David Jones',), ('Anne Baker',), ('Jemima Farrell',), ('Jack Smith',), ('Florence Bader',), ('Timothy Baker',), ('David Pinker',), ('Matthew Genting',), ('Joan Coplin',), ('Ramnaresh Sarwin',), ('Douglas Jones',), ('Henrietta Rumney',), ('David Farrell',), ('Millicent Purview',), ('John Hunt',), ('Erica Crumpet',)]\n"
     ]
    }
   ],
   "source": [
    "# Q7: Produce a list of all members who have used a tennis court.\n",
    "# Include in your output the name of the court, and the name of the member\n",
    "# formatted as a single column. Ensure no duplicate data, and order by\n",
    "# the member name.\n",
    "\n",
    "#Tennis Court 1, Darren Smith\n",
    "\n",
    "cursor.execute('''\n",
    "SELECT CONCAT(firstname,' ',surname) AS full_name FROM `Members` WHERE memid IN\n",
    "(SELECT DISTINCT memid FROM `Bookings` WHERE facid IN (SELECT facid FROM `Facilities` WHERE `name` LIKE '%Tennis Court%'))\n",
    "''')\n",
    "results = cursor.fetchall()\n",
    "print(results)"
   ]
  },
  {
   "cell_type": "code",
   "execution_count": 65,
   "id": "c4e28f7f-f84d-452a-a355-2904b2f61191",
   "metadata": {},
   "outputs": [
    {
     "ename": "OperationalError",
     "evalue": "near \"mem\": syntax error",
     "output_type": "error",
     "traceback": [
      "\u001b[0;31m---------------------------------------------------------------------------\u001b[0m",
      "\u001b[0;31mOperationalError\u001b[0m                          Traceback (most recent call last)",
      "Cell \u001b[0;32mIn[65], line 1\u001b[0m\n\u001b[0;32m----> 1\u001b[0m cursor\u001b[38;5;241m.\u001b[39mexecute(\u001b[38;5;124m'''\u001b[39m\u001b[38;5;124m \u001b[39m\n\u001b[1;32m      2\u001b[0m \u001b[38;5;124mSELECT name FROM `Facilities`\u001b[39m\n\u001b[1;32m      3\u001b[0m \u001b[38;5;124mWHERE mem.facid IN\u001b[39m\n\u001b[1;32m      4\u001b[0m \u001b[38;5;124m        (SELECT DISTINCT `memid`, facid \u001b[39m\n\u001b[1;32m      5\u001b[0m \u001b[38;5;124m        FROM `Bookings` \u001b[39m\n\u001b[1;32m      6\u001b[0m \u001b[38;5;124m        WHERE facid IN (SELECT facid FROM `Facilities` WHERE `name` LIKE \u001b[39m\u001b[38;5;124m'\u001b[39m\u001b[38;5;124m%\u001b[39m\u001b[38;5;124mTennis Court\u001b[39m\u001b[38;5;124m%\u001b[39m\u001b[38;5;124m'\u001b[39m\u001b[38;5;124m) ) mem\u001b[39m\n\u001b[1;32m      7\u001b[0m \u001b[38;5;124m'''\u001b[39m)\n\u001b[1;32m      8\u001b[0m results \u001b[38;5;241m=\u001b[39m cursor\u001b[38;5;241m.\u001b[39mfetchall()\n\u001b[1;32m      9\u001b[0m \u001b[38;5;28mprint\u001b[39m(results)\n",
      "\u001b[0;31mOperationalError\u001b[0m: near \"mem\": syntax error"
     ]
    }
   ],
   "source": [
    "cursor.execute(''' \n",
    "SELECT name FROM `Facilities`\n",
    "WHERE mem.facid IN\n",
    "        (SELECT DISTINCT `memid`, facid\n",
    "        FROM `Bookings` \n",
    "        WHERE facid IN (SELECT facid, name FROM `Facilities` WHERE `name` LIKE '%Tennis Court%') ) mem\n",
    "''')\n",
    "results = cursor.fetchall()\n",
    "print(results)"
   ]
  },
  {
   "cell_type": "code",
   "execution_count": 70,
   "id": "67b62f49-cff7-4eaf-9d2c-590e47d4232f",
   "metadata": {},
   "outputs": [
    {
     "name": "stdout",
     "output_type": "stream",
     "text": [
      "[(2, 0), (0, 1), (0, 0), (3, 1), (3, 0), (1, 1), (4, 0), (5, 0), (4, 1), (2, 1), (5, 1), (8, 1), (6, 1), (6, 0), (7, 1), (7, 0), (8, 0), (9, 1), (10, 0), (10, 1), (12, 0), (11, 1), (14, 0), (12, 1), (11, 0), (16, 1), (15, 1), (16, 0), (17, 0), (13, 1), (9, 0), (24, 1), (22, 0), (26, 0), (24, 0), (14, 1), (13, 0), (28, 0), (30, 1), (27, 1), (15, 0), (35, 0), (35, 1), (28, 1), (20, 0), (36, 0)]\n"
     ]
    }
   ],
   "source": [
    "cursor.execute(''' \n",
    "SELECT DISTINCT `memid`, facid\n",
    "        FROM `Bookings` \n",
    "        WHERE facid IN (SELECT facid FROM `Facilities` WHERE `name` LIKE '%Tennis Court%')\n",
    "''')\n",
    "results = cursor.fetchall()\n",
    "print(results)"
   ]
  },
  {
   "cell_type": "code",
   "execution_count": 71,
   "id": "85b7f9d7-4baf-495b-bf18-e9350bb68220",
   "metadata": {},
   "outputs": [
    {
     "name": "stdout",
     "output_type": "stream",
     "text": [
      "[(2, 'Tennis Court 1'), (0, 'Tennis Court 1'), (3, 'Tennis Court 1'), (1, 'Tennis Court 1'), (4, 'Tennis Court 1'), (5, 'Tennis Court 1'), (8, 'Tennis Court 1'), (6, 'Tennis Court 1'), (7, 'Tennis Court 1'), (9, 'Tennis Court 1'), (10, 'Tennis Court 1'), (12, 'Tennis Court 1'), (11, 'Tennis Court 1'), (14, 'Tennis Court 1'), (16, 'Tennis Court 1'), (15, 'Tennis Court 1'), (17, 'Tennis Court 1'), (13, 'Tennis Court 1'), (24, 'Tennis Court 1'), (22, 'Tennis Court 1'), (26, 'Tennis Court 1'), (28, 'Tennis Court 1'), (30, 'Tennis Court 1'), (27, 'Tennis Court 1'), (35, 'Tennis Court 1'), (20, 'Tennis Court 1'), (36, 'Tennis Court 1')]\n"
     ]
    }
   ],
   "source": [
    "cursor.execute(''' \n",
    "SELECT DISTINCT `memid`, (SELECT name FROM `Facilities` WHERE `name` LIKE '%Tennis Court%')\n",
    "        FROM `Bookings` \n",
    "        WHERE facid IN (SELECT facid FROM `Facilities` WHERE `name` LIKE '%Tennis Court%')\n",
    "''')\n",
    "results = cursor.fetchall()\n",
    "print(results)"
   ]
  },
  {
   "cell_type": "code",
   "execution_count": 84,
   "id": "b45eb7fd-0c9c-4aba-88e2-076a962e5d13",
   "metadata": {},
   "outputs": [
    {
     "name": "stdout",
     "output_type": "stream",
     "text": [
      "[('Tracy Smith', 'Tennis Court 1'), ('GUEST GUEST', 'Tennis Court 2'), ('GUEST GUEST', 'Tennis Court 1'), ('Tim Rownam', 'Tennis Court 2'), ('Tim Rownam', 'Tennis Court 1'), ('Darren Smith', 'Tennis Court 2'), ('Janice Joplette', 'Tennis Court 1'), ('Gerald Butters', 'Tennis Court 1'), ('Janice Joplette', 'Tennis Court 2'), ('Tracy Smith', 'Tennis Court 2'), ('Gerald Butters', 'Tennis Court 2'), ('Tim Boothe', 'Tennis Court 2'), ('Burton Tracy', 'Tennis Court 2'), ('Burton Tracy', 'Tennis Court 1'), ('Nancy Dare', 'Tennis Court 2'), ('Nancy Dare', 'Tennis Court 1'), ('Tim Boothe', 'Tennis Court 1'), ('Ponder Stibbons', 'Tennis Court 2'), ('Charles Owen', 'Tennis Court 1'), ('Charles Owen', 'Tennis Court 2'), ('Anne Baker', 'Tennis Court 1'), ('David Jones', 'Tennis Court 2'), ('Jack Smith', 'Tennis Court 1'), ('Anne Baker', 'Tennis Court 2'), ('David Jones', 'Tennis Court 1'), ('Timothy Baker', 'Tennis Court 2'), ('Florence Bader', 'Tennis Court 2'), ('Timothy Baker', 'Tennis Court 1'), ('David Pinker', 'Tennis Court 1'), ('Jemima Farrell', 'Tennis Court 2'), ('Ponder Stibbons', 'Tennis Court 1'), ('Ramnaresh Sarwin', 'Tennis Court 2'), ('Joan Coplin', 'Tennis Court 1'), ('Douglas Jones', 'Tennis Court 1'), ('Ramnaresh Sarwin', 'Tennis Court 1'), ('Jack Smith', 'Tennis Court 2'), ('Jemima Farrell', 'Tennis Court 1'), ('David Farrell', 'Tennis Court 1'), ('Millicent Purview', 'Tennis Court 2'), ('Henrietta Rumney', 'Tennis Court 2'), ('Florence Bader', 'Tennis Court 1'), ('John Hunt', 'Tennis Court 1'), ('John Hunt', 'Tennis Court 2'), ('David Farrell', 'Tennis Court 2'), ('Matthew Genting', 'Tennis Court 1'), ('Erica Crumpet', 'Tennis Court 1')]\n"
     ]
    }
   ],
   "source": [
    "cursor.execute('''\n",
    "SELECT DISTINCT CONCAT(firstname,' ',surname) AS full_name, f.name\n",
    "FROM Members m\n",
    "JOIN Bookings b ON b.memid = m.memid\n",
    "JOIN Facilities f ON f.facid = b.facid\n",
    "WHERE m.memid IN\n",
    "(SELECT memid FROM `Bookings` WHERE f.facid IN (SELECT facid FROM `Facilities` WHERE `name` LIKE '%Tennis Court%'))\n",
    "\n",
    "''')\n",
    "results = cursor.fetchall()\n",
    "print(results)"
   ]
  },
  {
   "cell_type": "markdown",
   "id": "0788f74a-c682-4656-8659-e67594e1c00f",
   "metadata": {},
   "source": [
    "/* Q8: Produce a list of bookings on the day of 2012-09-14 which\n",
    "will cost the member (or guest) more than $30. Remember that guests have\n",
    "different costs to members (the listed costs are per half-hour 'slot'), and\n",
    "the guest user's ID is always 0. Include in your output the name of the\n",
    "facility, the name of the member formatted as a single column, and the cost.\n",
    "Order by descending cost, and do not use any subqueries. */\n",
    "\n",
    "\n",
    "/* Q9: This time, produce the same result as in Q8, but using a subquery. */\n",
    "\n",
    "\n",
    "/* PART 2: SQLite\n",
    "\n",
    "Export the country club data from PHPMyAdmin, and connect to a local SQLite instance from Jupyter notebook \n",
    "for the following questions.  \n",
    "\n",
    "QUESTIONS:\n",
    "/* Q10: Produce a list of facilities with a total revenue less than 1000.\n",
    "The output of facility name and total revenue, sorted by revenue. Remember\n",
    "that there's a different cost for guests and members! */\n",
    "\n",
    "/* Q11: Produce a report of members and who recommended them in alphabetic surname,firstname order */\n",
    "\n",
    "\n",
    "/* Q12: Find the facilities with their usage by member, but not guests */\n",
    "\n",
    "\n",
    "/* Q13: Find the facilities usage by month, but not guests */\n",
    "\n"
   ]
  }
 ],
 "metadata": {
  "kernelspec": {
   "display_name": "Python 3 (ipykernel)",
   "language": "python",
   "name": "python3"
  },
  "language_info": {
   "codemirror_mode": {
    "name": "ipython",
    "version": 3
   },
   "file_extension": ".py",
   "mimetype": "text/x-python",
   "name": "python",
   "nbconvert_exporter": "python",
   "pygments_lexer": "ipython3",
   "version": "3.12.7"
  }
 },
 "nbformat": 4,
 "nbformat_minor": 5
}
